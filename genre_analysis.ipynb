{
 "metadata": {
  "language_info": {
   "codemirror_mode": {
    "name": "ipython",
    "version": 3
   },
   "file_extension": ".py",
   "mimetype": "text/x-python",
   "name": "python",
   "nbconvert_exporter": "python",
   "pygments_lexer": "ipython3",
   "version": "3.9.4-final"
  },
  "orig_nbformat": 2,
  "kernelspec": {
   "name": "python3",
   "display_name": "Python 3",
   "language": "python"
  }
 },
 "nbformat": 4,
 "nbformat_minor": 2,
 "cells": [
  {
   "source": [
    "# Intro\n",
    "Some websites allow writers and publishers to publish their books in a simple way. Each person has a preference for literary genres when choosing their next reading, so choosing genres well when publishing a book can make your book reach the right audience, thereby increasing your sales or advertising.\n",
    "The focus of this project will be to create a method for recommending literary genre tags for writers and publishers to publish their books. Thus, when filling in filling out the book's information on a platform, it indicates some genre tags that best fit the description of the work. "
   ],
   "cell_type": "markdown",
   "metadata": {}
  },
  {
   "source": [
    "# Data\n",
    "We will use a dataset with information from some books published on the Google Books platform. The dataset contains information such as the name of the author, name of the work, genre, date of publication, description of the book, etc. Thus, we will analyze it and try to obtain a classification method based on this information to provide genres for an unpublished work.\n",
    "All information about the dataset can be found [here](https://www.kaggle.com/bilalyussef/google-books-dataset)."
   ],
   "cell_type": "markdown",
   "metadata": {}
  },
  {
   "cell_type": "code",
   "execution_count": 16,
   "metadata": {},
   "outputs": [],
   "source": [
    "#Load packages\n",
    "import pandas as pd\n",
    "import re\n",
    "import numpy as np\n",
    "from sklearn.feature_extraction.text import TfidfVectorizer\n",
    "from nltk.tokenize import word_tokenize\n",
    "from nltk.stem import PorterStemmer\n",
    "from nltk.stem import WordNetLemmatizer\n",
    "from nltk.corpus import stopwords\n",
    "from sklearn.model_selection import train_test_split\n",
    "from sklearn.pipeline import Pipeline\n",
    "from sklearn.multiclass import OneVsRestClassifier\n",
    "from sklearn.naive_bayes import MultinomialNB\n",
    "from sklearn.model_selection import cross_val_score"
   ]
  },
  {
   "source": [
    "The dataset has a numeric column with no name, but it resembles an ID. As we already have a column with a unique identification (ISBN), we will use it as an index and ignore the cited column. For more info about ISBN: [ISBN on wikipedia](https://en.wikipedia.org/wiki/International_Standard_Book_Number)"
   ],
   "cell_type": "markdown",
   "metadata": {}
  },
  {
   "cell_type": "code",
   "execution_count": 17,
   "metadata": {},
   "outputs": [
    {
     "output_type": "execute_result",
     "data": {
      "text/plain": [
       "                                                          title  \\\n",
       "ISBN                                                              \n",
       "9781612626864                        Attack on Titan: Volume 13   \n",
       "9780758272799  Antiques Roadkill: A Trash 'n' Treasures Mystery   \n",
       "9781506713816                    The Art of Super Mario Odyssey   \n",
       "9781617734076    Getting Away Is Deadly: An Ellie Avery Mystery   \n",
       "9780007287758         The Painted Man (The Demon Cycle, Book 1)   \n",
       "\n",
       "                       author  rating voters   price currency  \\\n",
       "ISBN                                                            \n",
       "9781612626864  Hajime Isayama     4.6    428   43.28      SAR   \n",
       "9780758272799   Barbara Allan     3.3     23   26.15      SAR   \n",
       "9781506713816        Nintendo     3.9      9  133.85      SAR   \n",
       "9781617734076     Sara Rosett     4.0     10   26.15      SAR   \n",
       "9780007287758  Peter V. Brett     4.5    577   28.54      SAR   \n",
       "\n",
       "                                                     description  \\\n",
       "ISBN                                                               \n",
       "9781612626864  NO SAFE PLACE LEFT At great cost to the Garris...   \n",
       "9780758272799  Determined to make a new start in her quaint h...   \n",
       "9781506713816  Take a globetrotting journey all over the worl...   \n",
       "9781617734076  With swollen feet and swelling belly, pregnant...   \n",
       "9780007287758  The stunning debut fantasy novel from author P...   \n",
       "\n",
       "                                 publisher  page_count  \\\n",
       "ISBN                                                     \n",
       "9781612626864              Kodansha Comics         192   \n",
       "9780758272799  Kensington Publishing Corp.         288   \n",
       "9781506713816            Dark Horse Comics         368   \n",
       "9781617734076  Kensington Publishing Corp.         320   \n",
       "9780007287758             HarperCollins UK         544   \n",
       "\n",
       "                                                         generes language  \\\n",
       "ISBN                                                                        \n",
       "9781612626864                                               none  English   \n",
       "9780758272799  Fiction , Mystery &amp, Detective , Cozy , Gen...  English   \n",
       "9781506713816    Games &amp, Activities , Video &amp, Electronic  English   \n",
       "9781617734076                                               none  English   \n",
       "9780007287758                   Fiction , Fantasy , Dark Fantasy  English   \n",
       "\n",
       "              published_date  \n",
       "ISBN                          \n",
       "9781612626864   Jul 31, 2014  \n",
       "9780758272799    Jul 1, 2007  \n",
       "9781506713816    Nov 5, 2019  \n",
       "9781617734076    Mar 1, 2009  \n",
       "9780007287758    Jan 8, 2009  "
      ],
      "text/html": "<div>\n<style scoped>\n    .dataframe tbody tr th:only-of-type {\n        vertical-align: middle;\n    }\n\n    .dataframe tbody tr th {\n        vertical-align: top;\n    }\n\n    .dataframe thead th {\n        text-align: right;\n    }\n</style>\n<table border=\"1\" class=\"dataframe\">\n  <thead>\n    <tr style=\"text-align: right;\">\n      <th></th>\n      <th>title</th>\n      <th>author</th>\n      <th>rating</th>\n      <th>voters</th>\n      <th>price</th>\n      <th>currency</th>\n      <th>description</th>\n      <th>publisher</th>\n      <th>page_count</th>\n      <th>generes</th>\n      <th>language</th>\n      <th>published_date</th>\n    </tr>\n    <tr>\n      <th>ISBN</th>\n      <th></th>\n      <th></th>\n      <th></th>\n      <th></th>\n      <th></th>\n      <th></th>\n      <th></th>\n      <th></th>\n      <th></th>\n      <th></th>\n      <th></th>\n      <th></th>\n    </tr>\n  </thead>\n  <tbody>\n    <tr>\n      <th>9781612626864</th>\n      <td>Attack on Titan: Volume 13</td>\n      <td>Hajime Isayama</td>\n      <td>4.6</td>\n      <td>428</td>\n      <td>43.28</td>\n      <td>SAR</td>\n      <td>NO SAFE PLACE LEFT At great cost to the Garris...</td>\n      <td>Kodansha Comics</td>\n      <td>192</td>\n      <td>none</td>\n      <td>English</td>\n      <td>Jul 31, 2014</td>\n    </tr>\n    <tr>\n      <th>9780758272799</th>\n      <td>Antiques Roadkill: A Trash 'n' Treasures Mystery</td>\n      <td>Barbara Allan</td>\n      <td>3.3</td>\n      <td>23</td>\n      <td>26.15</td>\n      <td>SAR</td>\n      <td>Determined to make a new start in her quaint h...</td>\n      <td>Kensington Publishing Corp.</td>\n      <td>288</td>\n      <td>Fiction , Mystery &amp;amp, Detective , Cozy , Gen...</td>\n      <td>English</td>\n      <td>Jul 1, 2007</td>\n    </tr>\n    <tr>\n      <th>9781506713816</th>\n      <td>The Art of Super Mario Odyssey</td>\n      <td>Nintendo</td>\n      <td>3.9</td>\n      <td>9</td>\n      <td>133.85</td>\n      <td>SAR</td>\n      <td>Take a globetrotting journey all over the worl...</td>\n      <td>Dark Horse Comics</td>\n      <td>368</td>\n      <td>Games &amp;amp, Activities , Video &amp;amp, Electronic</td>\n      <td>English</td>\n      <td>Nov 5, 2019</td>\n    </tr>\n    <tr>\n      <th>9781617734076</th>\n      <td>Getting Away Is Deadly: An Ellie Avery Mystery</td>\n      <td>Sara Rosett</td>\n      <td>4.0</td>\n      <td>10</td>\n      <td>26.15</td>\n      <td>SAR</td>\n      <td>With swollen feet and swelling belly, pregnant...</td>\n      <td>Kensington Publishing Corp.</td>\n      <td>320</td>\n      <td>none</td>\n      <td>English</td>\n      <td>Mar 1, 2009</td>\n    </tr>\n    <tr>\n      <th>9780007287758</th>\n      <td>The Painted Man (The Demon Cycle, Book 1)</td>\n      <td>Peter V. Brett</td>\n      <td>4.5</td>\n      <td>577</td>\n      <td>28.54</td>\n      <td>SAR</td>\n      <td>The stunning debut fantasy novel from author P...</td>\n      <td>HarperCollins UK</td>\n      <td>544</td>\n      <td>Fiction , Fantasy , Dark Fantasy</td>\n      <td>English</td>\n      <td>Jan 8, 2009</td>\n    </tr>\n  </tbody>\n</table>\n</div>"
     },
     "metadata": {},
     "execution_count": 17
    }
   ],
   "source": [
    "books_df = pd.read_csv(\"google_books.csv\", usecols=[\"title\", \"author\", \"rating\", \"voters\", \"price\", \"currency\", \"description\", \"publisher\", \"page_count\", \"generes\", \"ISBN\", \"language\", \"published_date\"], index_col=\"ISBN\")\n",
    "books_df.head()"
   ]
  },
  {
   "source": [
    "The dataset has only books in the English language, which makes it easy to use NLP techniques in only one language "
   ],
   "cell_type": "markdown",
   "metadata": {}
  },
  {
   "cell_type": "code",
   "execution_count": 18,
   "metadata": {},
   "outputs": [
    {
     "output_type": "stream",
     "name": "stdout",
     "text": [
      "['English']\n"
     ]
    }
   ],
   "source": [
    "print(books_df.language.unique())"
   ]
  },
  {
   "source": [
    "The dataset has only 1299 examples of books. It seems to be a very small amount for a machine learning problem. In the future, we can use a larger dataset for the analysis. Also, we can handle that by using techniques such as K-fold cross validation"
   ],
   "cell_type": "markdown",
   "metadata": {}
  },
  {
   "cell_type": "code",
   "execution_count": 19,
   "metadata": {},
   "outputs": [
    {
     "output_type": "stream",
     "name": "stdout",
     "text": [
      "(1299, 12)\n"
     ]
    }
   ],
   "source": [
    "print(books_df.shape)"
   ]
  },
  {
   "source": [
    "We have 183 different authors, 82 publishers and 242 genres. However, we can see that the gender column can have several values for each book, so the number of different genres must be different from that. We will transform the gender column so that it is a list of them, not just a string"
   ],
   "cell_type": "markdown",
   "metadata": {}
  },
  {
   "cell_type": "code",
   "execution_count": 20,
   "metadata": {},
   "outputs": [
    {
     "output_type": "stream",
     "name": "stdout",
     "text": [
      "183\n82\n242\n"
     ]
    }
   ],
   "source": [
    "print(\"Number of authors: {}\".format(books_df.author.nunique()))\n",
    "print(\"Number of publishers: {}\".format(books_df.publisher.nunique()))\n",
    "print(\"Number of genres: {}\".format(books_df.generes.nunique()))"
   ]
  },
  {
   "source": [
    "We will remove some columns that do not seem to influence the literary genre of a book. This way, we will reduce the memory usage and leave the dataset cleaner for a better modeling"
   ],
   "cell_type": "markdown",
   "metadata": {}
  },
  {
   "cell_type": "code",
   "execution_count": 21,
   "metadata": {},
   "outputs": [
    {
     "output_type": "execute_result",
     "data": {
      "text/plain": [
       "                                                     description  \\\n",
       "ISBN                                                               \n",
       "9781612626864  NO SAFE PLACE LEFT At great cost to the Garris...   \n",
       "9780758272799  Determined to make a new start in her quaint h...   \n",
       "9781506713816  Take a globetrotting journey all over the worl...   \n",
       "9781617734076  With swollen feet and swelling belly, pregnant...   \n",
       "9780007287758  The stunning debut fantasy novel from author P...   \n",
       "9780007369218  HBO’s hit series A GAME OF THRONES is based on...   \n",
       "9781789090154  The novelization of the highly anticipated God...   \n",
       "9781250166609  From #1 New York Times bestselling author Bran...   \n",
       "9780062651242  NATIONAL BESTSELLERDeveloping video games—hero...   \n",
       "9781529018592  A short gift book of festive hospital diaries ...   \n",
       "\n",
       "                                                         generes  \n",
       "ISBN                                                              \n",
       "9781612626864                                               none  \n",
       "9780758272799  Fiction , Mystery &amp, Detective , Cozy , Gen...  \n",
       "9781506713816    Games &amp, Activities , Video &amp, Electronic  \n",
       "9781617734076                                               none  \n",
       "9780007287758                   Fiction , Fantasy , Dark Fantasy  \n",
       "9780007369218                                               none  \n",
       "9781789090154                             Fiction , Media Tie-In  \n",
       "9781250166609                           Fiction , Fantasy , Epic  \n",
       "9780062651242    Games &amp, Activities , Video &amp, Electronic  \n",
       "9781529018592  Biography &amp, Autobiography , Medical (incl....  "
      ],
      "text/html": "<div>\n<style scoped>\n    .dataframe tbody tr th:only-of-type {\n        vertical-align: middle;\n    }\n\n    .dataframe tbody tr th {\n        vertical-align: top;\n    }\n\n    .dataframe thead th {\n        text-align: right;\n    }\n</style>\n<table border=\"1\" class=\"dataframe\">\n  <thead>\n    <tr style=\"text-align: right;\">\n      <th></th>\n      <th>description</th>\n      <th>generes</th>\n    </tr>\n    <tr>\n      <th>ISBN</th>\n      <th></th>\n      <th></th>\n    </tr>\n  </thead>\n  <tbody>\n    <tr>\n      <th>9781612626864</th>\n      <td>NO SAFE PLACE LEFT At great cost to the Garris...</td>\n      <td>none</td>\n    </tr>\n    <tr>\n      <th>9780758272799</th>\n      <td>Determined to make a new start in her quaint h...</td>\n      <td>Fiction , Mystery &amp;amp, Detective , Cozy , Gen...</td>\n    </tr>\n    <tr>\n      <th>9781506713816</th>\n      <td>Take a globetrotting journey all over the worl...</td>\n      <td>Games &amp;amp, Activities , Video &amp;amp, Electronic</td>\n    </tr>\n    <tr>\n      <th>9781617734076</th>\n      <td>With swollen feet and swelling belly, pregnant...</td>\n      <td>none</td>\n    </tr>\n    <tr>\n      <th>9780007287758</th>\n      <td>The stunning debut fantasy novel from author P...</td>\n      <td>Fiction , Fantasy , Dark Fantasy</td>\n    </tr>\n    <tr>\n      <th>9780007369218</th>\n      <td>HBO’s hit series A GAME OF THRONES is based on...</td>\n      <td>none</td>\n    </tr>\n    <tr>\n      <th>9781789090154</th>\n      <td>The novelization of the highly anticipated God...</td>\n      <td>Fiction , Media Tie-In</td>\n    </tr>\n    <tr>\n      <th>9781250166609</th>\n      <td>From #1 New York Times bestselling author Bran...</td>\n      <td>Fiction , Fantasy , Epic</td>\n    </tr>\n    <tr>\n      <th>9780062651242</th>\n      <td>NATIONAL BESTSELLERDeveloping video games—hero...</td>\n      <td>Games &amp;amp, Activities , Video &amp;amp, Electronic</td>\n    </tr>\n    <tr>\n      <th>9781529018592</th>\n      <td>A short gift book of festive hospital diaries ...</td>\n      <td>Biography &amp;amp, Autobiography , Medical (incl....</td>\n    </tr>\n  </tbody>\n</table>\n</div>"
     },
     "metadata": {},
     "execution_count": 21
    }
   ],
   "source": [
    "books_df.drop(columns=[\"rating\", \"voters\", \"price\", \"currency\", \"published_date\", \"language\", \"page_count\", \"title\", \"author\", \"publisher\"], inplace=True)\n",
    "books_df.head(10)"
   ]
  },
  {
   "source": [
    "Some genres are \"none\", that means that the exact genre of that book is not known. In this case, we will remove those lines that have such a value "
   ],
   "cell_type": "markdown",
   "metadata": {}
  },
  {
   "cell_type": "code",
   "execution_count": 22,
   "metadata": {},
   "outputs": [
    {
     "output_type": "stream",
     "name": "stdout",
     "text": [
      "(772, 2)\n"
     ]
    }
   ],
   "source": [
    "books_df[\"generes\"] = books_df[\"generes\"].replace(\"none\", np.nan)\n",
    "books_df[\"generes\"].head()\n",
    "books_df.dropna(subset=[\"generes\"], inplace=True)\n",
    "print(books_df.shape)"
   ]
  },
  {
   "source": [
    "## Text preprocessing"
   ],
   "cell_type": "markdown",
   "metadata": {}
  },
  {
   "source": [
    "In this phase, we will clean the texts, removing symbols, accents, punctuations, etc. Next, we will use some Natural Language Processing techniques to better process the text, such as tokenization, removing stop words and text normalization"
   ],
   "cell_type": "markdown",
   "metadata": {}
  },
  {
   "cell_type": "code",
   "execution_count": 23,
   "metadata": {},
   "outputs": [],
   "source": [
    "books_df[\"generes\"] = books_df[\"generes\"].apply(lambda x: re.sub(r\"&amp\", \"\", str(x).lower()))\n",
    "books_df[\"generes\"] = books_df[\"generes\"].str.split(\" , \")"
   ]
  },
  {
   "cell_type": "code",
   "execution_count": 24,
   "metadata": {},
   "outputs": [
    {
     "output_type": "execute_result",
     "data": {
      "text/plain": [
       "                                                     description  \\\n",
       "ISBN                                                               \n",
       "9780758272799  determined to make a new start in her quaint h...   \n",
       "9781506713816  take a globetrotting journey all over the worl...   \n",
       "9780007287758  the stunning debut fantasy novel from author p...   \n",
       "9781789090154  the novelization of the highly anticipated god...   \n",
       "9781250166609  from  new york times bestselling author brando...   \n",
       "\n",
       "                                                    generes  \n",
       "ISBN                                                         \n",
       "9780758272799  [fiction, mystery, detective, cozy, general]  \n",
       "9781506713816        [games, activities, video, electronic]  \n",
       "9780007287758              [fiction, fantasy, dark fantasy]  \n",
       "9781789090154                       [fiction, media tie-in]  \n",
       "9781250166609                      [fiction, fantasy, epic]  "
      ],
      "text/html": "<div>\n<style scoped>\n    .dataframe tbody tr th:only-of-type {\n        vertical-align: middle;\n    }\n\n    .dataframe tbody tr th {\n        vertical-align: top;\n    }\n\n    .dataframe thead th {\n        text-align: right;\n    }\n</style>\n<table border=\"1\" class=\"dataframe\">\n  <thead>\n    <tr style=\"text-align: right;\">\n      <th></th>\n      <th>description</th>\n      <th>generes</th>\n    </tr>\n    <tr>\n      <th>ISBN</th>\n      <th></th>\n      <th></th>\n    </tr>\n  </thead>\n  <tbody>\n    <tr>\n      <th>9780758272799</th>\n      <td>determined to make a new start in her quaint h...</td>\n      <td>[fiction, mystery, detective, cozy, general]</td>\n    </tr>\n    <tr>\n      <th>9781506713816</th>\n      <td>take a globetrotting journey all over the worl...</td>\n      <td>[games, activities, video, electronic]</td>\n    </tr>\n    <tr>\n      <th>9780007287758</th>\n      <td>the stunning debut fantasy novel from author p...</td>\n      <td>[fiction, fantasy, dark fantasy]</td>\n    </tr>\n    <tr>\n      <th>9781789090154</th>\n      <td>the novelization of the highly anticipated god...</td>\n      <td>[fiction, media tie-in]</td>\n    </tr>\n    <tr>\n      <th>9781250166609</th>\n      <td>from  new york times bestselling author brando...</td>\n      <td>[fiction, fantasy, epic]</td>\n    </tr>\n  </tbody>\n</table>\n</div>"
     },
     "metadata": {},
     "execution_count": 24
    }
   ],
   "source": [
    "books_df[\"description\"] = books_df[\"description\"].apply(lambda x: re.sub(r\"[\\,\\.\\\\\\/\\_\\:\\;\\>\\<\\}\\{\\´\\`\\(\\)\\+\\-\\%\\$\\#\\@\\!\\?\\[\\]]|\\d\", \"\", str(x).lower().strip()))\n",
    "books_df.head()"
   ]
  },
  {
   "cell_type": "code",
   "execution_count": 25,
   "metadata": {},
   "outputs": [],
   "source": [
    "def text_preprocessing(text):\n",
    "    #Tokenization\n",
    "    tokenized = word_tokenize(text)\n",
    "    #Text normalization\n",
    "    #stemming\n",
    "    stemmer = PorterStemmer()\n",
    "    stemmed = [stemmer.stem(token) for token in tokenized]\n",
    "    #lemmatization\n",
    "    lemmatizer = WordNetLemmatizer()\n",
    "    lemmatized = [lemmatizer.lemmatize(token) for token in stemmed]\n",
    "    #Remove stopwords\n",
    "    stop_words = stopwords.words(\"english\")\n",
    "    text_no_stop = [token for token in lemmatized if token not in stop_words]\n",
    "    \n",
    "    processed_text = \" \".join(text_no_stop)\n",
    "\n",
    "    return processed_text"
   ]
  },
  {
   "cell_type": "code",
   "execution_count": 26,
   "metadata": {},
   "outputs": [
    {
     "output_type": "execute_result",
     "data": {
      "text/plain": [
       "ISBN\n",
       "9780758272799    determin make new start quaint hometown bank m...\n",
       "9781506713816    take globetrot journey worldand beyondwith thi...\n",
       "9780007287758    stun debut fantasi novel author peter v brett ...\n",
       "9781789090154    novel highli anticip god war game hi vengeanc ...\n",
       "9781250166609    new york time bestsel author brandon sanderson...\n",
       "Name: description, dtype: object"
      ]
     },
     "metadata": {},
     "execution_count": 26
    }
   ],
   "source": [
    "books_df[\"description\"] = books_df[\"description\"].apply(lambda x: text_preprocessing(x))\n",
    "books_df[\"description\"].head()"
   ]
  },
  {
   "source": [
    "We will create a list containing all the literary genres present in the dataset "
   ],
   "cell_type": "markdown",
   "metadata": {}
  },
  {
   "cell_type": "code",
   "execution_count": 27,
   "metadata": {
    "tags": []
   },
   "outputs": [
    {
     "output_type": "stream",
     "name": "stdout",
     "text": [
      "['fiction', 'mystery', 'detective', 'cozy', 'general', 'games', 'activities', 'video', 'electronic', 'fantasy', 'dark fantasy', 'media tie-in', 'epic', 'biography', 'autobiography', 'medical (incl. patients)', 'dragons', 'mythical creatures', 'comics', 'graphic novels', 'superheroes', 'comics & graphic novels', 'sports', 'military', 'science fiction', 'women', 'juvenile fiction', 'humorous stories', 'classics', 'business', 'economics', 'motivational', 'social science', 'action', 'adventure', 'women sleuths', 'noir', 'leadership', 'literary criticism', 'accounting', 'financial', 'cooking', 'methods', 'baking', 'literary collections', 'letters', 'literary', 'amateur sleuth', 'thrillers', 'suspense', 'industries', 'computers', 'information technology', 'self-help', 'personal growth', 'marketing', 'family', 'relationships', 'private investigators', 'self-esteem', 'crime', 'management', 'corporate finance', 'psychology', 'interpersonal relations', 'personal success', 'hard-boiled', 'communication', 'social skills', 'police procedural', 'contemporary', 'magic', 'personal finance', 'drama', 'shakespeare', 'urban', 'humor', 'recreation', 'soccer', 'supernatural', 'international mystery', 'history', 'modern', '20th century', 'domestic', 'humorous', 'mystery & detective', 'new business enterprises', 'poetry', 'self-management', 'horror', 'lgbt', 'gay', 'emotions', 'reference', 'theory', 'success', 'action & adventure', 'manga', 'organizational behavior', 'conflict resolution', 'mediation', 'philosophy', 'business & economics', 'mentoring & coaching', 'advertising', 'promotion', 'psychological', 'nonfiction', 'e-commerce', 'time management', 'creative ability', 'paranormal', 'fairy tales, folk tales, legends', 'mythology', 'true crime', 'neuropsychology', 'health', 'fitness', 'healthy living', 'movements', 'social psychology', 'space opera', 'historical', 'budgeting', 'entrepreneurship', 'technology', 'engineering', 'management science', 'multilevel', 'business communication', 'electronic commerce', 'training', 'decision-making', 'problem solving', 'system administration', 'storage', 'retrieval', 'literary figures', 'political', 'medical', 'internal medicine', 'stress management', 'young adult fiction', 'gender studies', 'espionage', 'strategy', 'nature', 'environmental conservation', 'protection', 'finance', 'art', 'popular culture', 'body, mind', 'spirit', 'inspiration', 'environmentalists', 'naturalists', 'physiological psychology', 'psychoanalysis', 'political science', 'civics', 'citizenship', 'alien contact', 'traditional', 'collections', 'anthologies', 'workplace culture', 'sales', 'selling', 'information management', 'science', 'public affairs', 'administration', 'holiday', 'sociology', 'public finance', 'skills', 'animals', 'investing', 'entertainment', 'performing arts', 'online trading', 'technological', 'personal memoirs', 'war', 'family life', 'short stories (single author)', 'managerial', 'inspirational', 'cognitive psychology', 'cognition', 'friendship', 'coming of age', 'surveys', 'political ideologies', 'dystopian', 'consumer behavior', 'careers', 'legal', 'essays', 'strategic planning', 'topic', 'celebrity', 'global warming', 'climate change', 'new thought', 'data processing', 'juvenile nonfiction', 'curiosities', 'wonders', 'business mathematics', 'mental health', 'form', 'comic strips', 'cartoons', 'television', 'genres', 'comedy', 'criminology', 'human resources', 'personnel management', 'european', 'none, irish, scottish, welsh', 'rich', 'famous', 'small town', 'rural', 'terrorism', 'investments', 'securities', 'stocks', 'customer relations', 'development', 'business development', 'social activists', 'software development', 'money management', 'alternative history', 'american', 'fairy tales', 'folklore', 'organizational development', 'meetings', 'presentations', 'organized crime', 'feminism', 'feminist theory', 'music', 'styles', 'musicals', 'web', 'social media', 'life stages', 'school age', 'social themes', 'corporate', 'business history', 'desktop applications', 'professional', 'happiness', 'satire', 'video game art', 'theater', 'courses', 'dishes', 'cookies', 'internet marketing', 'health care delivery']\n269\n"
     ]
    }
   ],
   "source": [
    "genres = []\n",
    "\n",
    "for i in range(len(books_df[\"generes\"].values)):\n",
    "    for genre in books_df[\"generes\"].iloc[i]:\n",
    "        if genre not in genres:\n",
    "            genres.append(genre)\n",
    "print(genres)\n",
    "print(len(genres))"
   ]
  },
  {
   "source": [
    "Turn each genre into a column, so our dataset will be in a wide-form. Whenever a sample has that genre in its list of genres, then we put a value of 1 in the column that represents the genre, if it does not have it, we add 0. For example, if a book is only \"adventure\", then its \"adventure\" column will have a value of 1 and the rest of the genre columns will have a value of 0 "
   ],
   "cell_type": "markdown",
   "metadata": {}
  },
  {
   "cell_type": "code",
   "execution_count": 28,
   "metadata": {
    "tags": []
   },
   "outputs": [],
   "source": [
    "for genre in genres:\n",
    "    books_df[genre] = books_df[\"generes\"].apply(lambda x: 1 if genre in x else 0)"
   ]
  },
  {
   "source": [
    "## Modeling and evaluation\n",
    "First, we will separate the data into two sets, a training set, which will serve to train the Machine Learning (ML) algorithm, and a test set to check how well the model does with data not yet seen. Next, we will use a pipeline so that the data can be processed with tf-idf (term frequency-inverse document frequency) and then go through the ML algorithm using the One-vs-Rest technique (OvR), which allows us to do a multilabel classification, that is, of all classes (Multiclass) the result for being more than 1 of them. More info about multilabel classification go [here](https://towardsdatascience.com/multi-label-text-classification-with-scikit-learn-30714b7819c5) and more info about OvR go [here] (https://machinelearningmastery.com/one-vs-rest-and-one-vs-one-for-multi-class-classification/)"
   ],
   "cell_type": "markdown",
   "metadata": {}
  },
  {
   "cell_type": "code",
   "execution_count": 29,
   "metadata": {},
   "outputs": [],
   "source": [
    "train, test = train_test_split(books_df, test_size=0.2, shuffle=True, random_state=42)\n",
    "x_train = train[\"description\"]\n",
    "x_test = test[\"description\"]"
   ]
  },
  {
   "source": [
    "We will use unigrams and bigrams to better analysis"
   ],
   "cell_type": "markdown",
   "metadata": {}
  },
  {
   "cell_type": "code",
   "execution_count": 30,
   "metadata": {},
   "outputs": [],
   "source": [
    "pipe = Pipeline([\n",
    "    (\"vectorizer\", TfidfVectorizer(ngram_range=(1, 2))),\n",
    "    (\"model\", OneVsRestClassifier(MultinomialNB(), n_jobs=-1))\n",
    "])"
   ]
  },
  {
   "cell_type": "code",
   "execution_count": 32,
   "metadata": {
    "tags": [
     "outputPrepend"
    ]
   },
   "outputs": [
    {
     "output_type": "stream",
     "name": "stdout",
     "text": [
      " o gênero system administration é 0.9935483870967742 no conjunto de teste\n",
      "Acuracia para o gênero storage é 1.0 no conjunto de treinamento\n",
      "Acuracia para o gênero storage é 0.9935483870967742 no conjunto de teste\n",
      "Acuracia para o gênero retrieval é 1.0 no conjunto de treinamento\n",
      "Acuracia para o gênero retrieval é 0.9935483870967742 no conjunto de teste\n",
      "Acuracia para o gênero literary figures é 0.9983792544570502 no conjunto de treinamento\n",
      "Acuracia para o gênero literary figures é 1.0 no conjunto de teste\n",
      "Acuracia para o gênero political é 0.9967585089141004 no conjunto de treinamento\n",
      "Acuracia para o gênero political é 1.0 no conjunto de teste\n",
      "Acuracia para o gênero medical é 0.9951377633711507 no conjunto de treinamento\n",
      "Acuracia para o gênero medical é 1.0 no conjunto de teste\n",
      "Acuracia para o gênero internal medicine é 0.9983792544570502 no conjunto de treinamento\n",
      "Acuracia para o gênero internal medicine é 1.0 no conjunto de teste\n",
      "Acuracia para o gênero stress management é 0.9983792544570502 no conjunto de treinamento\n",
      "Acuracia para o gênero stress management é 0.9935483870967742 no conjunto de teste\n",
      "Acuracia para o gênero young adult fiction é 0.9902755267423015 no conjunto de treinamento\n",
      "Acuracia para o gênero young adult fiction é 0.9870967741935484 no conjunto de teste\n",
      "Acuracia para o gênero gender studies é 0.9983792544570502 no conjunto de treinamento\n",
      "Acuracia para o gênero gender studies é 1.0 no conjunto de teste\n",
      "Acuracia para o gênero espionage é 0.9983792544570502 no conjunto de treinamento\n",
      "Acuracia para o gênero espionage é 1.0 no conjunto de teste\n",
      "Acuracia para o gênero strategy é 1.0 no conjunto de treinamento\n",
      "Acuracia para o gênero strategy é 0.9935483870967742 no conjunto de teste\n",
      "Acuracia para o gênero nature é 0.9983792544570502 no conjunto de treinamento\n",
      "Acuracia para o gênero nature é 1.0 no conjunto de teste\n",
      "Acuracia para o gênero environmental conservation é 0.9983792544570502 no conjunto de treinamento\n",
      "Acuracia para o gênero environmental conservation é 1.0 no conjunto de teste\n",
      "Acuracia para o gênero protection é 0.9983792544570502 no conjunto de treinamento\n",
      "Acuracia para o gênero protection é 1.0 no conjunto de teste\n",
      "Acuracia para o gênero finance é 0.9951377633711507 no conjunto de treinamento\n",
      "Acuracia para o gênero finance é 1.0 no conjunto de teste\n",
      "Acuracia para o gênero art é 1.0 no conjunto de treinamento\n",
      "Acuracia para o gênero art é 0.9870967741935484 no conjunto de teste\n",
      "Acuracia para o gênero popular culture é 0.9967585089141004 no conjunto de treinamento\n",
      "Acuracia para o gênero popular culture é 0.9935483870967742 no conjunto de teste\n",
      "Acuracia para o gênero body, mind é 0.9918962722852512 no conjunto de treinamento\n",
      "Acuracia para o gênero body, mind é 1.0 no conjunto de teste\n",
      "Acuracia para o gênero spirit é 0.9918962722852512 no conjunto de treinamento\n",
      "Acuracia para o gênero spirit é 1.0 no conjunto de teste\n",
      "Acuracia para o gênero inspiration é 0.9951377633711507 no conjunto de treinamento\n",
      "Acuracia para o gênero inspiration é 1.0 no conjunto de teste\n",
      "Acuracia para o gênero environmentalists é 0.9983792544570502 no conjunto de treinamento\n",
      "Acuracia para o gênero environmentalists é 1.0 no conjunto de teste\n",
      "Acuracia para o gênero naturalists é 0.9983792544570502 no conjunto de treinamento\n",
      "Acuracia para o gênero naturalists é 1.0 no conjunto de teste\n",
      "Acuracia para o gênero physiological psychology é 0.9983792544570502 no conjunto de treinamento\n",
      "Acuracia para o gênero physiological psychology é 1.0 no conjunto de teste\n",
      "Acuracia para o gênero psychoanalysis é 0.9983792544570502 no conjunto de treinamento\n",
      "Acuracia para o gênero psychoanalysis é 1.0 no conjunto de teste\n",
      "Acuracia para o gênero political science é 0.9967585089141004 no conjunto de treinamento\n",
      "Acuracia para o gênero political science é 0.9870967741935484 no conjunto de teste\n",
      "Acuracia para o gênero civics é 0.9983792544570502 no conjunto de treinamento\n",
      "Acuracia para o gênero civics é 1.0 no conjunto de teste\n",
      "Acuracia para o gênero citizenship é 0.9983792544570502 no conjunto de treinamento\n",
      "Acuracia para o gênero citizenship é 1.0 no conjunto de teste\n",
      "Acuracia para o gênero alien contact é 0.9967585089141004 no conjunto de treinamento\n",
      "Acuracia para o gênero alien contact é 0.9935483870967742 no conjunto de teste\n",
      "Acuracia para o gênero traditional é 0.9918962722852512 no conjunto de treinamento\n",
      "Acuracia para o gênero traditional é 0.9935483870967742 no conjunto de teste\n",
      "Acuracia para o gênero collections é 0.9951377633711507 no conjunto de treinamento\n",
      "Acuracia para o gênero collections é 0.9935483870967742 no conjunto de teste\n",
      "Acuracia para o gênero anthologies é 0.9951377633711507 no conjunto de treinamento\n",
      "Acuracia para o gênero anthologies é 0.9935483870967742 no conjunto de teste\n",
      "Acuracia para o gênero workplace culture é 0.9967585089141004 no conjunto de treinamento\n",
      "Acuracia para o gênero workplace culture é 0.9935483870967742 no conjunto de teste\n",
      "Acuracia para o gênero sales é 0.9983792544570502 no conjunto de treinamento\n",
      "Acuracia para o gênero sales é 1.0 no conjunto de teste\n",
      "Acuracia para o gênero selling é 0.9983792544570502 no conjunto de treinamento\n",
      "Acuracia para o gênero selling é 1.0 no conjunto de teste\n",
      "Acuracia para o gênero information management é 0.9983792544570502 no conjunto de treinamento\n",
      "Acuracia para o gênero information management é 1.0 no conjunto de teste\n",
      "Acuracia para o gênero science é 0.9967585089141004 no conjunto de treinamento\n",
      "Acuracia para o gênero science é 1.0 no conjunto de teste\n",
      "Acuracia para o gênero public affairs é 0.9983792544570502 no conjunto de treinamento\n",
      "Acuracia para o gênero public affairs é 1.0 no conjunto de teste\n",
      "Acuracia para o gênero administration é 0.9983792544570502 no conjunto de treinamento\n",
      "Acuracia para o gênero administration é 1.0 no conjunto de teste\n",
      "Acuracia para o gênero holiday é 1.0 no conjunto de treinamento\n",
      "Acuracia para o gênero holiday é 0.9935483870967742 no conjunto de teste\n",
      "Acuracia para o gênero sociology é 0.9967585089141004 no conjunto de treinamento\n",
      "Acuracia para o gênero sociology é 0.9935483870967742 no conjunto de teste\n",
      "Acuracia para o gênero public finance é 1.0 no conjunto de treinamento\n",
      "Acuracia para o gênero public finance é 0.9935483870967742 no conjunto de teste\n",
      "Acuracia para o gênero skills é 0.9983792544570502 no conjunto de treinamento\n",
      "Acuracia para o gênero skills é 1.0 no conjunto de teste\n",
      "Acuracia para o gênero animals é 1.0 no conjunto de treinamento\n",
      "Acuracia para o gênero animals é 0.9870967741935484 no conjunto de teste\n",
      "Acuracia para o gênero investing é 0.993517017828201 no conjunto de treinamento\n",
      "Acuracia para o gênero investing é 1.0 no conjunto de teste\n",
      "Acuracia para o gênero entertainment é 0.9951377633711507 no conjunto de treinamento\n",
      "Acuracia para o gênero entertainment é 1.0 no conjunto de teste\n",
      "Acuracia para o gênero performing arts é 0.9951377633711507 no conjunto de treinamento\n",
      "Acuracia para o gênero performing arts é 0.9935483870967742 no conjunto de teste\n",
      "Acuracia para o gênero online trading é 0.9983792544570502 no conjunto de treinamento\n",
      "Acuracia para o gênero online trading é 1.0 no conjunto de teste\n",
      "Acuracia para o gênero technological é 0.9983792544570502 no conjunto de treinamento\n",
      "Acuracia para o gênero technological é 1.0 no conjunto de teste\n",
      "Acuracia para o gênero personal memoirs é 0.9951377633711507 no conjunto de treinamento\n",
      "Acuracia para o gênero personal memoirs é 1.0 no conjunto de teste\n",
      "Acuracia para o gênero war é 0.9967585089141004 no conjunto de treinamento\n",
      "Acuracia para o gênero war é 1.0 no conjunto de teste\n",
      "Acuracia para o gênero family life é 0.9983792544570502 no conjunto de treinamento\n",
      "Acuracia para o gênero family life é 1.0 no conjunto de teste\n",
      "Acuracia para o gênero short stories (single author) é 0.9983792544570502 no conjunto de treinamento\n",
      "Acuracia para o gênero short stories (single author) é 1.0 no conjunto de teste\n",
      "Acuracia para o gênero managerial é 0.9967585089141004 no conjunto de treinamento\n",
      "Acuracia para o gênero managerial é 1.0 no conjunto de teste\n",
      "Acuracia para o gênero inspirational é 0.993517017828201 no conjunto de treinamento\n",
      "Acuracia para o gênero inspirational é 1.0 no conjunto de teste\n",
      "Acuracia para o gênero cognitive psychology é 0.9967585089141004 no conjunto de treinamento\n",
      "Acuracia para o gênero cognitive psychology é 0.9935483870967742 no conjunto de teste\n",
      "Acuracia para o gênero cognition é 0.9967585089141004 no conjunto de treinamento\n",
      "Acuracia para o gênero cognition é 0.9935483870967742 no conjunto de teste\n",
      "Acuracia para o gênero friendship é 0.9951377633711507 no conjunto de treinamento\n",
      "Acuracia para o gênero friendship é 1.0 no conjunto de teste\n",
      "Acuracia para o gênero coming of age é 0.9983792544570502 no conjunto de treinamento\n",
      "Acuracia para o gênero coming of age é 1.0 no conjunto de teste\n",
      "Acuracia para o gênero surveys é 0.9983792544570502 no conjunto de treinamento\n",
      "Acuracia para o gênero surveys é 0.9935483870967742 no conjunto de teste\n",
      "Acuracia para o gênero political ideologies é 1.0 no conjunto de treinamento\n",
      "Acuracia para o gênero political ideologies é 0.9935483870967742 no conjunto de teste\n",
      "Acuracia para o gênero dystopian é 0.9951377633711507 no conjunto de treinamento\n",
      "Acuracia para o gênero dystopian é 1.0 no conjunto de teste\n",
      "Acuracia para o gênero consumer behavior é 0.9967585089141004 no conjunto de treinamento\n",
      "Acuracia para o gênero consumer behavior é 1.0 no conjunto de teste\n",
      "Acuracia para o gênero careers é 0.9983792544570502 no conjunto de treinamento\n",
      "Acuracia para o gênero careers é 1.0 no conjunto de teste\n",
      "Acuracia para o gênero legal é 0.9967585089141004 no conjunto de treinamento\n",
      "Acuracia para o gênero legal é 0.9935483870967742 no conjunto de teste\n",
      "Acuracia para o gênero essays é 0.9983792544570502 no conjunto de treinamento\n",
      "Acuracia para o gênero essays é 0.9935483870967742 no conjunto de teste\n",
      "Acuracia para o gênero strategic planning é 0.9983792544570502 no conjunto de treinamento\n",
      "Acuracia para o gênero strategic planning é 1.0 no conjunto de teste\n",
      "Acuracia para o gênero topic é 0.9967585089141004 no conjunto de treinamento\n",
      "Acuracia para o gênero topic é 1.0 no conjunto de teste\n",
      "Acuracia para o gênero celebrity é 0.9983792544570502 no conjunto de treinamento\n",
      "Acuracia para o gênero celebrity é 1.0 no conjunto de teste\n",
      "Acuracia para o gênero global warming é 0.9983792544570502 no conjunto de treinamento\n",
      "Acuracia para o gênero global warming é 1.0 no conjunto de teste\n",
      "Acuracia para o gênero climate change é 0.9983792544570502 no conjunto de treinamento\n",
      "Acuracia para o gênero climate change é 1.0 no conjunto de teste\n",
      "Acuracia para o gênero new thought é 0.9983792544570502 no conjunto de treinamento\n",
      "Acuracia para o gênero new thought é 1.0 no conjunto de teste\n",
      "Acuracia para o gênero data processing é 0.9983792544570502 no conjunto de treinamento\n",
      "Acuracia para o gênero data processing é 1.0 no conjunto de teste\n",
      "Acuracia para o gênero juvenile nonfiction é 0.9983792544570502 no conjunto de treinamento\n",
      "Acuracia para o gênero juvenile nonfiction é 1.0 no conjunto de teste\n",
      "Acuracia para o gênero curiosities é 0.9983792544570502 no conjunto de treinamento\n",
      "Acuracia para o gênero curiosities é 1.0 no conjunto de teste\n",
      "Acuracia para o gênero wonders é 0.9983792544570502 no conjunto de treinamento\n",
      "Acuracia para o gênero wonders é 1.0 no conjunto de teste\n",
      "Acuracia para o gênero business mathematics é 0.9983792544570502 no conjunto de treinamento\n",
      "Acuracia para o gênero business mathematics é 1.0 no conjunto de teste\n",
      "Acuracia para o gênero mental health é 0.9983792544570502 no conjunto de treinamento\n",
      "Acuracia para o gênero mental health é 1.0 no conjunto de teste\n",
      "Acuracia para o gênero form é 0.9983792544570502 no conjunto de treinamento\n",
      "Acuracia para o gênero form é 1.0 no conjunto de teste\n",
      "Acuracia para o gênero comic strips é 0.9983792544570502 no conjunto de treinamento\n",
      "Acuracia para o gênero comic strips é 1.0 no conjunto de teste\n",
      "Acuracia para o gênero cartoons é 0.9983792544570502 no conjunto de treinamento\n",
      "Acuracia para o gênero cartoons é 1.0 no conjunto de teste\n",
      "Acuracia para o gênero television é 0.9983792544570502 no conjunto de treinamento\n",
      "Acuracia para o gênero television é 1.0 no conjunto de teste\n",
      "Acuracia para o gênero genres é 0.9983792544570502 no conjunto de treinamento\n",
      "Acuracia para o gênero genres é 0.9935483870967742 no conjunto de teste\n",
      "Acuracia para o gênero comedy é 0.9983792544570502 no conjunto de treinamento\n",
      "Acuracia para o gênero comedy é 1.0 no conjunto de teste\n",
      "Acuracia para o gênero criminology é 0.9983792544570502 no conjunto de treinamento\n",
      "Acuracia para o gênero criminology é 1.0 no conjunto de teste\n",
      "Acuracia para o gênero human resources é 0.9983792544570502 no conjunto de treinamento\n",
      "Acuracia para o gênero human resources é 1.0 no conjunto de teste\n",
      "Acuracia para o gênero personnel management é 0.9983792544570502 no conjunto de treinamento\n",
      "Acuracia para o gênero personnel management é 1.0 no conjunto de teste\n",
      "Acuracia para o gênero european é 0.9983792544570502 no conjunto de treinamento\n",
      "Acuracia para o gênero european é 1.0 no conjunto de teste\n",
      "Acuracia para o gênero none, irish, scottish, welsh é 0.9983792544570502 no conjunto de treinamento\n",
      "Acuracia para o gênero none, irish, scottish, welsh é 1.0 no conjunto de teste\n",
      "Acuracia para o gênero rich é 0.9983792544570502 no conjunto de treinamento\n",
      "Acuracia para o gênero rich é 1.0 no conjunto de teste\n",
      "Acuracia para o gênero famous é 0.9983792544570502 no conjunto de treinamento\n",
      "Acuracia para o gênero famous é 1.0 no conjunto de teste\n",
      "Acuracia para o gênero small town é 0.9983792544570502 no conjunto de treinamento\n",
      "Acuracia para o gênero small town é 1.0 no conjunto de teste\n",
      "Acuracia para o gênero rural é 0.9983792544570502 no conjunto de treinamento\n",
      "Acuracia para o gênero rural é 1.0 no conjunto de teste\n",
      "Acuracia para o gênero terrorism é 1.0 no conjunto de treinamento\n",
      "Acuracia para o gênero terrorism é 0.9935483870967742 no conjunto de teste\n",
      "Acuracia para o gênero investments é 1.0 no conjunto de treinamento\n",
      "Acuracia para o gênero investments é 0.9935483870967742 no conjunto de teste\n",
      "Acuracia para o gênero securities é 1.0 no conjunto de treinamento\n",
      "Acuracia para o gênero securities é 0.9935483870967742 no conjunto de teste\n",
      "Acuracia para o gênero stocks é 1.0 no conjunto de treinamento\n",
      "Acuracia para o gênero stocks é 0.9935483870967742 no conjunto de teste\n",
      "Acuracia para o gênero customer relations é 0.9983792544570502 no conjunto de treinamento\n",
      "Acuracia para o gênero customer relations é 1.0 no conjunto de teste\n",
      "Acuracia para o gênero development é 0.9983792544570502 no conjunto de treinamento\n",
      "Acuracia para o gênero development é 1.0 no conjunto de teste\n",
      "Acuracia para o gênero business development é 0.9983792544570502 no conjunto de treinamento\n",
      "Acuracia para o gênero business development é 1.0 no conjunto de teste\n",
      "Acuracia para o gênero social activists é 0.9983792544570502 no conjunto de treinamento\n",
      "Acuracia para o gênero social activists é 1.0 no conjunto de teste\n",
      "Acuracia para o gênero software development é 0.9983792544570502 no conjunto de treinamento\n",
      "Acuracia para o gênero software development é 1.0 no conjunto de teste\n",
      "Acuracia para o gênero money management é 0.9983792544570502 no conjunto de treinamento\n",
      "Acuracia para o gênero money management é 1.0 no conjunto de teste\n",
      "Acuracia para o gênero alternative history é 0.9983792544570502 no conjunto de treinamento\n",
      "Acuracia para o gênero alternative history é 1.0 no conjunto de teste\n",
      "Acuracia para o gênero american é 0.9983792544570502 no conjunto de treinamento\n",
      "Acuracia para o gênero american é 1.0 no conjunto de teste\n",
      "Acuracia para o gênero fairy tales é 0.9983792544570502 no conjunto de treinamento\n",
      "Acuracia para o gênero fairy tales é 1.0 no conjunto de teste\n",
      "Acuracia para o gênero folklore é 0.9983792544570502 no conjunto de treinamento\n",
      "Acuracia para o gênero folklore é 1.0 no conjunto de teste\n",
      "Acuracia para o gênero organizational development é 0.9983792544570502 no conjunto de treinamento\n",
      "Acuracia para o gênero organizational development é 1.0 no conjunto de teste\n",
      "Acuracia para o gênero meetings é 0.9983792544570502 no conjunto de treinamento\n",
      "Acuracia para o gênero meetings é 1.0 no conjunto de teste\n",
      "Acuracia para o gênero presentations é 0.9983792544570502 no conjunto de treinamento\n",
      "Acuracia para o gênero presentations é 1.0 no conjunto de teste\n",
      "Acuracia para o gênero organized crime é 1.0 no conjunto de treinamento\n",
      "Acuracia para o gênero organized crime é 0.9935483870967742 no conjunto de teste\n",
      "Acuracia para o gênero feminism é 0.9983792544570502 no conjunto de treinamento\n",
      "Acuracia para o gênero feminism é 1.0 no conjunto de teste\n",
      "Acuracia para o gênero feminist theory é 0.9983792544570502 no conjunto de treinamento\n",
      "Acuracia para o gênero feminist theory é 1.0 no conjunto de teste\n",
      "Acuracia para o gênero music é 1.0 no conjunto de treinamento\n",
      "Acuracia para o gênero music é 0.9935483870967742 no conjunto de teste\n",
      "Acuracia para o gênero styles é 1.0 no conjunto de treinamento\n",
      "Acuracia para o gênero styles é 0.9935483870967742 no conjunto de teste\n",
      "Acuracia para o gênero musicals é 1.0 no conjunto de treinamento\n",
      "Acuracia para o gênero musicals é 0.9935483870967742 no conjunto de teste\n",
      "Acuracia para o gênero web é 0.9983792544570502 no conjunto de treinamento\n",
      "Acuracia para o gênero web é 1.0 no conjunto de teste\n",
      "Acuracia para o gênero social media é 0.9983792544570502 no conjunto de treinamento\n",
      "Acuracia para o gênero social media é 1.0 no conjunto de teste\n",
      "Acuracia para o gênero life stages é 0.9983792544570502 no conjunto de treinamento\n",
      "Acuracia para o gênero life stages é 1.0 no conjunto de teste\n",
      "Acuracia para o gênero school age é 0.9983792544570502 no conjunto de treinamento\n",
      "Acuracia para o gênero school age é 1.0 no conjunto de teste\n",
      "Acuracia para o gênero social themes é 0.9983792544570502 no conjunto de treinamento\n",
      "Acuracia para o gênero social themes é 1.0 no conjunto de teste\n",
      "Acuracia para o gênero corporate é 0.9983792544570502 no conjunto de treinamento\n",
      "Acuracia para o gênero corporate é 1.0 no conjunto de teste\n",
      "Acuracia para o gênero business history é 0.9983792544570502 no conjunto de treinamento\n",
      "Acuracia para o gênero business history é 1.0 no conjunto de teste\n",
      "Acuracia para o gênero desktop applications é 1.0 no conjunto de treinamento\n",
      "Acuracia para o gênero desktop applications é 0.9935483870967742 no conjunto de teste\n",
      "Acuracia para o gênero professional é 0.9983792544570502 no conjunto de treinamento\n",
      "Acuracia para o gênero professional é 1.0 no conjunto de teste\n",
      "Acuracia para o gênero happiness é 1.0 no conjunto de treinamento\n",
      "Acuracia para o gênero happiness é 0.9935483870967742 no conjunto de teste\n",
      "Acuracia para o gênero satire é 0.9983792544570502 no conjunto de treinamento\n",
      "Acuracia para o gênero satire é 1.0 no conjunto de teste\n",
      "Acuracia para o gênero video game art é 1.0 no conjunto de treinamento\n",
      "Acuracia para o gênero video game art é 0.9935483870967742 no conjunto de teste\n",
      "Acuracia para o gênero theater é 1.0 no conjunto de treinamento\n",
      "Acuracia para o gênero theater é 0.9935483870967742 no conjunto de teste\n",
      "Acuracia para o gênero courses é 0.9983792544570502 no conjunto de treinamento\n",
      "Acuracia para o gênero courses é 1.0 no conjunto de teste\n",
      "Acuracia para o gênero dishes é 0.9983792544570502 no conjunto de treinamento\n",
      "Acuracia para o gênero dishes é 1.0 no conjunto de teste\n",
      "Acuracia para o gênero cookies é 0.9983792544570502 no conjunto de treinamento\n",
      "Acuracia para o gênero cookies é 1.0 no conjunto de teste\n",
      "Acuracia para o gênero internet marketing é 1.0 no conjunto de treinamento\n",
      "Acuracia para o gênero internet marketing é 0.9935483870967742 no conjunto de teste\n",
      "Acuracia para o gênero health care delivery é 0.9983792544570502 no conjunto de treinamento\n",
      "Acuracia para o gênero health care delivery é 1.0 no conjunto de teste\n",
      "Média de todas as acuracias: 0.9909581484590478\n",
      "A menor acuracia foi no gênero general com valor 0.8193548387096774\n",
      "A maior acuracia foi no gênero health care delivery com valor 1.0\n"
     ]
    }
   ],
   "source": [
    "accuracies = []\n",
    "\n",
    "for genre in genres:\n",
    "    pipe.fit(x_train, train[genre])\n",
    "    \n",
    "    accuracy = pipe.score(x_test, test[genre])\n",
    "\n",
    "    #If you want to check every accuracy for every single genre, uncomment the two lines bellow\n",
    "    #print(\"Accuracy for genre {genre} is {score} on training set\".format(genre=genre, score=pipe.score(x_train, train[genre])))\n",
    "    #print(\"Accuracy for genre {genre} is {score} on test set\".format(genre=genre, score=accuracy))\n",
    "    \n",
    "    accuracies.append(accuracy)\n",
    "\n",
    "genres_and_accuracies = {k: v for (k, v) in zip(accuracies, genres)}\n",
    "print(\"Overall accuracies mean: {acc_mean}\".format(acc_mean=np.mean(accuracies)))\n",
    "\n",
    "acc_min = np.amin(accuracies)\n",
    "print(\"The min accuracy was on genre {genre} with the value {acc_min}\".format(genre=genres_and_accuracies.get(acc_min), acc_min=acc_min))\n",
    "\n",
    "acc_max = np.amax(accuracies)\n",
    "print(\"The max accuracy was on genre {genre} with the value {acc_max}\".format(genre=genres_and_accuracies.get(acc_max), acc_max=acc_max))"
   ]
  },
  {
   "source": [
    "As the dataset has few values, we can obtain a more real result of accuracy using the K-fold cross validation technique. So, we will divide the dataset into 5 equal parts, where 1 of them will be used as a validation set and the rest will train the model, in the end we will receive each of the measured accuracy and we will take the average of them as a result "
   ],
   "cell_type": "markdown",
   "metadata": {}
  },
  {
   "cell_type": "code",
   "execution_count": 34,
   "metadata": {
    "tags": [
     "outputPrepend"
    ]
   },
   "outputs": [
    {
     "output_type": "stream",
     "name": "stdout",
     "text": [
      "42815249 usando cross validation\n",
      "Acuracia para o gênero women é 0.9961206535400084 usando cross validation\n",
      "Acuracia para o gênero juvenile fiction é 0.9728026811897779 usando cross validation\n",
      "Acuracia para o gênero humorous stories é 0.9961206535400084 usando cross validation\n",
      "Acuracia para o gênero classics é 0.9870465018852116 usando cross validation\n",
      "Acuracia para o gênero business é 0.9209635525764558 usando cross validation\n",
      "Acuracia para o gênero economics é 0.9235525764558024 usando cross validation\n",
      "Acuracia para o gênero motivational é 0.9766904063678258 usando cross validation\n",
      "Acuracia para o gênero social science é 0.9883452031839128 usando cross validation\n",
      "Acuracia para o gênero action é 0.9352325094260578 usando cross validation\n",
      "Acuracia para o gênero adventure é 0.9352325094260578 usando cross validation\n",
      "Acuracia para o gênero women sleuths é 0.977989107666527 usando cross validation\n",
      "Acuracia para o gênero noir é 0.9987096774193549 usando cross validation\n",
      "Acuracia para o gênero leadership é 0.9948219522413071 usando cross validation\n",
      "Acuracia para o gênero literary criticism é 0.9987096774193549 usando cross validation\n",
      "Acuracia para o gênero accounting é 0.9883452031839128 usando cross validation\n",
      "Acuracia para o gênero financial é 0.9974193548387097 usando cross validation\n",
      "Acuracia para o gênero cooking é 0.9948219522413071 usando cross validation\n",
      "Acuracia para o gênero methods é 0.9987096774193549 usando cross validation\n",
      "Acuracia para o gênero baking é 0.9987096774193549 usando cross validation\n",
      "Acuracia para o gênero literary collections é 0.9987096774193549 usando cross validation\n",
      "Acuracia para o gênero letters é 0.9987096774193549 usando cross validation\n",
      "Acuracia para o gênero literary é 0.9922329283619605 usando cross validation\n",
      "Acuracia para o gênero amateur sleuth é 0.9779807289484708 usando cross validation\n",
      "Acuracia para o gênero thrillers é 0.9080268118977797 usando cross validation\n",
      "Acuracia para o gênero suspense é 0.9546627565982405 usando cross validation\n",
      "Acuracia para o gênero industries é 0.9948219522413071 usando cross validation\n",
      "Acuracia para o gênero computers é 0.9883452031839128 usando cross validation\n",
      "Acuracia para o gênero information technology é 0.9961206535400084 usando cross validation\n",
      "Acuracia para o gênero self-help é 0.9494847088395476 usando cross validation\n",
      "Acuracia para o gênero personal growth é 0.9663259321323838 usando cross validation\n",
      "Acuracia para o gênero marketing é 0.9961206535400084 usando cross validation\n",
      "Acuracia para o gênero family é 0.9935232509426057 usando cross validation\n",
      "Acuracia para o gênero relationships é 0.9948219522413071 usando cross validation\n",
      "Acuracia para o gênero private investigators é 0.9896439044826142 usando cross validation\n",
      "Acuracia para o gênero self-esteem é 0.9948219522413071 usando cross validation\n",
      "Acuracia para o gênero crime é 0.9559614578969418 usando cross validation\n",
      "Acuracia para o gênero management é 0.9948219522413071 usando cross validation\n",
      "Acuracia para o gênero corporate finance é 0.9987096774193549 usando cross validation\n",
      "Acuracia para o gênero psychology é 0.977989107666527 usando cross validation\n",
      "Acuracia para o gênero interpersonal relations é 0.9987096774193549 usando cross validation\n",
      "Acuracia para o gênero personal success é 0.9935232509426057 usando cross validation\n",
      "Acuracia para o gênero hard-boiled é 0.9974193548387097 usando cross validation\n",
      "Acuracia para o gênero communication é 0.9961206535400084 usando cross validation\n",
      "Acuracia para o gênero social skills é 0.9961206535400084 usando cross validation\n",
      "Acuracia para o gênero police procedural é 0.9909426057813155 usando cross validation\n",
      "Acuracia para o gênero contemporary é 0.9987096774193549 usando cross validation\n",
      "Acuracia para o gênero magic é 0.9909426057813155 usando cross validation\n",
      "Acuracia para o gênero personal finance é 0.9857561793045664 usando cross validation\n",
      "Acuracia para o gênero drama é 0.9987096774193549 usando cross validation\n",
      "Acuracia para o gênero shakespeare é 0.9987096774193549 usando cross validation\n",
      "Acuracia para o gênero urban é 0.9961206535400084 usando cross validation\n",
      "Acuracia para o gênero humor é 0.9922329283619605 usando cross validation\n",
      "Acuracia para o gênero recreation é 0.9974193548387097 usando cross validation\n",
      "Acuracia para o gênero soccer é 0.9987096774193549 usando cross validation\n",
      "Acuracia para o gênero supernatural é 0.9961206535400084 usando cross validation\n",
      "Acuracia para o gênero international mystery é 0.9909426057813155 usando cross validation\n",
      "Acuracia para o gênero history é 0.9935232509426057 usando cross validation\n",
      "Acuracia para o gênero modern é 0.9974193548387097 usando cross validation\n",
      "Acuracia para o gênero 20th century é 0.9987096774193549 usando cross validation\n",
      "Acuracia para o gênero domestic é 0.9987096774193549 usando cross validation\n",
      "Acuracia para o gênero humorous é 0.9948219522413071 usando cross validation\n",
      "Acuracia para o gênero mystery & detective é 0.9883619606200252 usando cross validation\n",
      "Acuracia para o gênero new business enterprises é 0.9987096774193549 usando cross validation\n",
      "Acuracia para o gênero poetry é 0.9961206535400084 usando cross validation\n",
      "Acuracia para o gênero self-management é 0.9948219522413071 usando cross validation\n",
      "Acuracia para o gênero horror é 0.9870465018852116 usando cross validation\n",
      "Acuracia para o gênero lgbt é 0.9974193548387097 usando cross validation\n",
      "Acuracia para o gênero gay é 0.9987096774193549 usando cross validation\n",
      "Acuracia para o gênero emotions é 0.9974193548387097 usando cross validation\n",
      "Acuracia para o gênero reference é 0.9974193548387097 usando cross validation\n",
      "Acuracia para o gênero theory é 0.9974193548387097 usando cross validation\n",
      "Acuracia para o gênero success é 0.9870465018852116 usando cross validation\n",
      "Acuracia para o gênero action & adventure é 0.9935232509426057 usando cross validation\n",
      "Acuracia para o gênero manga é 0.9974193548387097 usando cross validation\n",
      "Acuracia para o gênero organizational behavior é 0.9987096774193549 usando cross validation\n",
      "Acuracia para o gênero conflict resolution é 0.9987096774193549 usando cross validation\n",
      "Acuracia para o gênero mediation é 0.9987096774193549 usando cross validation\n",
      "Acuracia para o gênero philosophy é 0.9935232509426057 usando cross validation\n",
      "Acuracia para o gênero business & economics é 0.9870465018852116 usando cross validation\n",
      "Acuracia para o gênero mentoring & coaching é 0.9922329283619605 usando cross validation\n",
      "Acuracia para o gênero advertising é 0.9987096774193549 usando cross validation\n",
      "Acuracia para o gênero promotion é 0.9987096774193549 usando cross validation\n",
      "Acuracia para o gênero psychological é 0.9883452031839128 usando cross validation\n",
      "Acuracia para o gênero nonfiction é 0.9987096774193549 usando cross validation\n",
      "Acuracia para o gênero e-commerce é 0.9961206535400084 usando cross validation\n",
      "Acuracia para o gênero time management é 0.9948219522413071 usando cross validation\n",
      "Acuracia para o gênero creative ability é 0.9987096774193549 usando cross validation\n",
      "Acuracia para o gênero paranormal é 0.9974193548387097 usando cross validation\n",
      "Acuracia para o gênero fairy tales, folk tales, legends é 0.9974193548387097 usando cross validation\n",
      "Acuracia para o gênero mythology é 0.9974193548387097 usando cross validation\n",
      "Acuracia para o gênero true crime é 0.9974193548387097 usando cross validation\n",
      "Acuracia para o gênero neuropsychology é 0.9974193548387097 usando cross validation\n",
      "Acuracia para o gênero health é 0.9987096774193549 usando cross validation\n",
      "Acuracia para o gênero fitness é 0.9987096774193549 usando cross validation\n",
      "Acuracia para o gênero healthy living é 0.9987096774193549 usando cross validation\n",
      "Acuracia para o gênero movements é 0.9974193548387097 usando cross validation\n",
      "Acuracia para o gênero social psychology é 0.9961206535400084 usando cross validation\n",
      "Acuracia para o gênero space opera é 0.9961206535400084 usando cross validation\n",
      "Acuracia para o gênero historical é 0.9974193548387097 usando cross validation\n",
      "Acuracia para o gênero budgeting é 0.9961206535400084 usando cross validation\n",
      "Acuracia para o gênero entrepreneurship é 0.9961206535400084 usando cross validation\n",
      "Acuracia para o gênero technology é 0.9974193548387097 usando cross validation\n",
      "Acuracia para o gênero engineering é 0.9974193548387097 usando cross validation\n",
      "Acuracia para o gênero management science é 0.9987096774193549 usando cross validation\n",
      "Acuracia para o gênero multilevel é 0.9987096774193549 usando cross validation\n",
      "Acuracia para o gênero business communication é 0.9974193548387097 usando cross validation\n",
      "Acuracia para o gênero electronic commerce é 0.9987096774193549 usando cross validation\n",
      "Acuracia para o gênero training é 0.9987096774193549 usando cross validation\n",
      "Acuracia para o gênero decision-making é 0.9961206535400084 usando cross validation\n",
      "Acuracia para o gênero problem solving é 0.9961206535400084 usando cross validation\n",
      "Acuracia para o gênero system administration é 0.9987096774193549 usando cross validation\n",
      "Acuracia para o gênero storage é 0.9987096774193549 usando cross validation\n",
      "Acuracia para o gênero retrieval é 0.9987096774193549 usando cross validation\n",
      "Acuracia para o gênero literary figures é 0.9987096774193549 usando cross validation\n",
      "Acuracia para o gênero political é 0.9974193548387097 usando cross validation\n",
      "Acuracia para o gênero medical é 0.9961206535400084 usando cross validation\n",
      "Acuracia para o gênero internal medicine é 0.9987096774193549 usando cross validation\n",
      "Acuracia para o gênero stress management é 0.9974193548387097 usando cross validation\n",
      "Acuracia para o gênero young adult fiction é 0.9896439044826142 usando cross validation\n",
      "Acuracia para o gênero gender studies é 0.9987096774193549 usando cross validation\n",
      "Acuracia para o gênero espionage é 0.9987096774193549 usando cross validation\n",
      "Acuracia para o gênero strategy é 0.9987096774193549 usando cross validation\n",
      "Acuracia para o gênero nature é 0.9987096774193549 usando cross validation\n",
      "Acuracia para o gênero environmental conservation é 0.9987096774193549 usando cross validation\n",
      "Acuracia para o gênero protection é 0.9987096774193549 usando cross validation\n",
      "Acuracia para o gênero finance é 0.9961206535400084 usando cross validation\n",
      "Acuracia para o gênero art é 0.9974193548387097 usando cross validation\n",
      "Acuracia para o gênero popular culture é 0.9961206535400084 usando cross validation\n",
      "Acuracia para o gênero body, mind é 0.9935232509426057 usando cross validation\n",
      "Acuracia para o gênero spirit é 0.9935232509426057 usando cross validation\n",
      "Acuracia para o gênero inspiration é 0.9961206535400084 usando cross validation\n",
      "Acuracia para o gênero environmentalists é 0.9987096774193549 usando cross validation\n",
      "Acuracia para o gênero naturalists é 0.9987096774193549 usando cross validation\n",
      "Acuracia para o gênero physiological psychology é 0.9987096774193549 usando cross validation\n",
      "Acuracia para o gênero psychoanalysis é 0.9987096774193549 usando cross validation\n",
      "Acuracia para o gênero political science é 0.9948219522413071 usando cross validation\n",
      "Acuracia para o gênero civics é 0.9987096774193549 usando cross validation\n",
      "Acuracia para o gênero citizenship é 0.9987096774193549 usando cross validation\n",
      "Acuracia para o gênero alien contact é 0.9961206535400084 usando cross validation\n",
      "Acuracia para o gênero traditional é 0.9922329283619605 usando cross validation\n",
      "Acuracia para o gênero collections é 0.9948219522413071 usando cross validation\n",
      "Acuracia para o gênero anthologies é 0.9948219522413071 usando cross validation\n",
      "Acuracia para o gênero workplace culture é 0.9961206535400084 usando cross validation\n",
      "Acuracia para o gênero sales é 0.9987096774193549 usando cross validation\n",
      "Acuracia para o gênero selling é 0.9987096774193549 usando cross validation\n",
      "Acuracia para o gênero information management é 0.9987096774193549 usando cross validation\n",
      "Acuracia para o gênero science é 0.9974193548387097 usando cross validation\n",
      "Acuracia para o gênero public affairs é 0.9987096774193549 usando cross validation\n",
      "Acuracia para o gênero administration é 0.9987096774193549 usando cross validation\n",
      "Acuracia para o gênero holiday é 0.9987096774193549 usando cross validation\n",
      "Acuracia para o gênero sociology é 0.9961206535400084 usando cross validation\n",
      "Acuracia para o gênero public finance é 0.9987096774193549 usando cross validation\n",
      "Acuracia para o gênero skills é 0.9987096774193549 usando cross validation\n",
      "Acuracia para o gênero animals é 0.9974193548387097 usando cross validation\n",
      "Acuracia para o gênero investing é 0.9948219522413071 usando cross validation\n",
      "Acuracia para o gênero entertainment é 0.9961206535400084 usando cross validation\n",
      "Acuracia para o gênero performing arts é 0.9948219522413071 usando cross validation\n",
      "Acuracia para o gênero online trading é 0.9987096774193549 usando cross validation\n",
      "Acuracia para o gênero technological é 0.9987096774193549 usando cross validation\n",
      "Acuracia para o gênero personal memoirs é 0.9961206535400084 usando cross validation\n",
      "Acuracia para o gênero war é 0.9974193548387097 usando cross validation\n",
      "Acuracia para o gênero family life é 0.9987096774193549 usando cross validation\n",
      "Acuracia para o gênero short stories (single author) é 0.9987096774193549 usando cross validation\n",
      "Acuracia para o gênero managerial é 0.9974193548387097 usando cross validation\n",
      "Acuracia para o gênero inspirational é 0.9948219522413071 usando cross validation\n",
      "Acuracia para o gênero cognitive psychology é 0.9961206535400084 usando cross validation\n",
      "Acuracia para o gênero cognition é 0.9961206535400084 usando cross validation\n",
      "Acuracia para o gênero friendship é 0.9961206535400084 usando cross validation\n",
      "Acuracia para o gênero coming of age é 0.9987096774193549 usando cross validation\n",
      "Acuracia para o gênero surveys é 0.9974193548387097 usando cross validation\n",
      "Acuracia para o gênero political ideologies é 0.9987096774193549 usando cross validation\n",
      "Acuracia para o gênero dystopian é 0.9961206535400084 usando cross validation\n",
      "Acuracia para o gênero consumer behavior é 0.9974193548387097 usando cross validation\n",
      "Acuracia para o gênero careers é 0.9987096774193549 usando cross validation\n",
      "Acuracia para o gênero legal é 0.9961206535400084 usando cross validation\n",
      "Acuracia para o gênero essays é 0.9974193548387097 usando cross validation\n",
      "Acuracia para o gênero strategic planning é 0.9987096774193549 usando cross validation\n",
      "Acuracia para o gênero topic é 0.9974193548387097 usando cross validation\n",
      "Acuracia para o gênero celebrity é 0.9987096774193549 usando cross validation\n",
      "Acuracia para o gênero global warming é 0.9987096774193549 usando cross validation\n",
      "Acuracia para o gênero climate change é 0.9987096774193549 usando cross validation\n",
      "Acuracia para o gênero new thought é 0.9987096774193549 usando cross validation\n",
      "Acuracia para o gênero data processing é 0.9987096774193549 usando cross validation\n",
      "Acuracia para o gênero juvenile nonfiction é 0.9987096774193549 usando cross validation\n",
      "Acuracia para o gênero curiosities é 0.9987096774193549 usando cross validation\n",
      "Acuracia para o gênero wonders é 0.9987096774193549 usando cross validation\n",
      "Acuracia para o gênero business mathematics é 0.9987096774193549 usando cross validation\n",
      "Acuracia para o gênero mental health é 0.9987096774193549 usando cross validation\n",
      "Acuracia para o gênero form é 0.9987096774193549 usando cross validation\n",
      "Acuracia para o gênero comic strips é 0.9987096774193549 usando cross validation\n",
      "Acuracia para o gênero cartoons é 0.9987096774193549 usando cross validation\n",
      "Acuracia para o gênero television é 0.9987096774193549 usando cross validation\n",
      "Acuracia para o gênero genres é 0.9974193548387097 usando cross validation\n",
      "Acuracia para o gênero comedy é 0.9987096774193549 usando cross validation\n",
      "Acuracia para o gênero criminology é 0.9987096774193549 usando cross validation\n",
      "Acuracia para o gênero human resources é 0.9987096774193549 usando cross validation\n",
      "Acuracia para o gênero personnel management é 0.9987096774193549 usando cross validation\n",
      "Acuracia para o gênero european é 0.9987096774193549 usando cross validation\n",
      "Acuracia para o gênero none, irish, scottish, welsh é 0.9987096774193549 usando cross validation\n",
      "Acuracia para o gênero rich é 0.9987096774193549 usando cross validation\n",
      "Acuracia para o gênero famous é 0.9987096774193549 usando cross validation\n",
      "Acuracia para o gênero small town é 0.9987096774193549 usando cross validation\n",
      "Acuracia para o gênero rural é 0.9987096774193549 usando cross validation\n",
      "Acuracia para o gênero terrorism é 0.9987096774193549 usando cross validation\n",
      "Acuracia para o gênero investments é 0.9987096774193549 usando cross validation\n",
      "Acuracia para o gênero securities é 0.9987096774193549 usando cross validation\n",
      "Acuracia para o gênero stocks é 0.9987096774193549 usando cross validation\n",
      "Acuracia para o gênero customer relations é 0.9987096774193549 usando cross validation\n",
      "Acuracia para o gênero development é 0.9987096774193549 usando cross validation\n",
      "Acuracia para o gênero business development é 0.9987096774193549 usando cross validation\n",
      "Acuracia para o gênero social activists é 0.9987096774193549 usando cross validation\n",
      "Acuracia para o gênero software development é 0.9987096774193549 usando cross validation\n",
      "Acuracia para o gênero money management é 0.9987096774193549 usando cross validation\n",
      "Acuracia para o gênero alternative history é 0.9987096774193549 usando cross validation\n",
      "Acuracia para o gênero american é 0.9987096774193549 usando cross validation\n",
      "Acuracia para o gênero fairy tales é 0.9987096774193549 usando cross validation\n",
      "Acuracia para o gênero folklore é 0.9987096774193549 usando cross validation\n",
      "Acuracia para o gênero organizational development é 0.9987096774193549 usando cross validation\n",
      "Acuracia para o gênero meetings é 0.9987096774193549 usando cross validation\n",
      "Acuracia para o gênero presentations é 0.9987096774193549 usando cross validation\n",
      "Acuracia para o gênero organized crime é 0.9987096774193549 usando cross validation\n",
      "Acuracia para o gênero feminism é 0.9987096774193549 usando cross validation\n",
      "Acuracia para o gênero feminist theory é 0.9987096774193549 usando cross validation\n",
      "Acuracia para o gênero music é 0.9987096774193549 usando cross validation\n",
      "Acuracia para o gênero styles é 0.9987096774193549 usando cross validation\n",
      "Acuracia para o gênero musicals é 0.9987096774193549 usando cross validation\n",
      "Acuracia para o gênero web é 0.9987096774193549 usando cross validation\n",
      "Acuracia para o gênero social media é 0.9987096774193549 usando cross validation\n",
      "Acuracia para o gênero life stages é 0.9987096774193549 usando cross validation\n",
      "Acuracia para o gênero school age é 0.9987096774193549 usando cross validation\n",
      "Acuracia para o gênero social themes é 0.9987096774193549 usando cross validation\n",
      "Acuracia para o gênero corporate é 0.9987096774193549 usando cross validation\n",
      "Acuracia para o gênero business history é 0.9987096774193549 usando cross validation\n",
      "Acuracia para o gênero desktop applications é 0.9987096774193549 usando cross validation\n",
      "Acuracia para o gênero professional é 0.9987096774193549 usando cross validation\n",
      "Acuracia para o gênero happiness é 0.9987096774193549 usando cross validation\n",
      "Acuracia para o gênero satire é 0.9987096774193549 usando cross validation\n",
      "Acuracia para o gênero video game art é 0.9987096774193549 usando cross validation\n",
      "Acuracia para o gênero theater é 0.9987096774193549 usando cross validation\n",
      "Acuracia para o gênero courses é 0.9987096774193549 usando cross validation\n",
      "Acuracia para o gênero dishes é 0.9987096774193549 usando cross validation\n",
      "Acuracia para o gênero cookies é 0.9987096774193549 usando cross validation\n",
      "Acuracia para o gênero internet marketing é 0.9987096774193549 usando cross validation\n",
      "Acuracia para o gênero health care delivery é 0.9987096774193549 usando cross validation\n",
      "Média de todas as acuracias com cross validation: 0.9911545032494788\n",
      "A menor acuracia foi no gênero general com valor 0.7823963133640552 usando cross validation\n",
      "A maior acuracia foi no gênero health care delivery com valor 0.9987096774193549 usando cross validation\n"
     ]
    }
   ],
   "source": [
    "accuracies = []\n",
    "\n",
    "for genre in genres:\n",
    "    accuracy = cross_val_score(pipe, books_df[\"description\"], books_df[genre], cv=5, n_jobs=-1).mean()\n",
    "\n",
    "    #If you want to check every accuracy for every single genre, uncomment the line bellow\n",
    "    #print(\"Accuracy for genre {genre} is {score} using cross validation\".format(genre=genre, score=accuracy))\n",
    "\n",
    "    accuracies.append(accuracy)\n",
    "\n",
    "genres_and_accuracies = {k: v for (k, v) in zip(accuracies, genres)}\n",
    "print(\"Overall accuracies mean with cross validation: {acc_mean}\".format(acc_mean=np.mean(accuracies)))\n",
    "\n",
    "acc_min = np.amin(accuracies)\n",
    "print(\"The min accuracy was on genre {genre} with value {acc_min} using cross validation\".format(genre=genres_and_accuracies.get(acc_min), acc_min=acc_min))\n",
    "\n",
    "acc_max = np.amax(accuracies)\n",
    "print(\"The max accuracy was on genre {genre} with value {acc_max} using cross validation\".format(genre=genres_and_accuracies.get(acc_max), acc_max=acc_max))"
   ]
  },
  {
   "source": [
    "# Results and discussion\n",
    "After pre-processing the description of the books and using Natural Language Processing (NLP) techniques, such as Term frequency-Inverse document frequency (tf-idf), and Machine Learning, we were able to have a final accuracy of 99% in identifying the literary genre of a book through a brief description of it. This system can help authors and publishers to better publish their books, where a book publishing platform can use this algorithm to recommend genre tags at the time of publication, or can be used to categorize already published books that do not have a specified genre.\n",
    "Although the results are very good, we can expand the project using more data from books, in addition to using other Machine Learningal gorithms and doing hyperparametrization to obtain even more accurate results. "
   ],
   "cell_type": "markdown",
   "metadata": {}
  },
  {
   "source": [],
   "cell_type": "markdown",
   "metadata": {}
  }
 ]
}