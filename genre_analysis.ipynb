{
 "metadata": {
  "language_info": {
   "codemirror_mode": {
    "name": "ipython",
    "version": 3
   },
   "file_extension": ".py",
   "mimetype": "text/x-python",
   "name": "python",
   "nbconvert_exporter": "python",
   "pygments_lexer": "ipython3",
   "version": "3.9.4-final"
  },
  "orig_nbformat": 2,
  "kernelspec": {
   "name": "python3",
   "display_name": "Python 3",
   "language": "python"
  }
 },
 "nbformat": 4,
 "nbformat_minor": 2,
 "cells": [
  {
   "source": [
    "# Intro\n",
    "Some websites allow writers and publishers to publish their books in a simple way. Each person has a preference for literary genres when choosing their next reading, so choosing genres well when publishing a book can make your book reach the right audience, thereby increasing your sales or advertising.\n",
    "The focus of this project will be to create a method for recommending literary genre tags for writers and publishers to publish their books. Thus, when filling in filling out the book's information on a platform, it indicates some genre tags that best fit the description of the work. "
   ],
   "cell_type": "markdown",
   "metadata": {}
  },
  {
   "source": [
    "# Data\n",
    "We will use a dataset with information from some books published on the Google Books platform. The dataset contains information such as the name of the author, name of the work, genre, date of publication, description of the book, etc. Thus, we will analyze it and try to obtain a classification method based on this information to provide genres for an unpublished work.\n",
    "All information about the dataset can be found [here](https://www.kaggle.com/bilalyussef/google-books-dataset)."
   ],
   "cell_type": "markdown",
   "metadata": {}
  },
  {
   "cell_type": "code",
   "execution_count": 1,
   "metadata": {},
   "outputs": [],
   "source": [
    "#Load packages\n",
    "import pandas as pd\n",
    "import re\n",
    "import numpy as np\n",
    "from sklearn.feature_extraction.text import TfidfVectorizer\n",
    "from nltk.tokenize import word_tokenize\n",
    "from nltk.stem import PorterStemmer\n",
    "from nltk.stem import WordNetLemmatizer\n",
    "from nltk.corpus import stopwords\n",
    "from sklearn.model_selection import train_test_split\n",
    "from sklearn.pipeline import Pipeline\n",
    "from sklearn.multiclass import OneVsRestClassifier\n",
    "from sklearn.naive_bayes import MultinomialNB\n",
    "from sklearn.model_selection import cross_val_score"
   ]
  },
  {
   "source": [
    "The dataset has a numeric column with no name, but it resembles an ID. As we already have a column with a unique identification (ISBN), we will use it as an index and ignore the cited column. For more info about ISBN: [ISBN on wikipedia](https://en.wikipedia.org/wiki/International_Standard_Book_Number)"
   ],
   "cell_type": "markdown",
   "metadata": {}
  },
  {
   "cell_type": "code",
   "execution_count": 2,
   "metadata": {},
   "outputs": [
    {
     "output_type": "execute_result",
     "data": {
      "text/plain": [
       "                                                          title  \\\n",
       "ISBN                                                              \n",
       "9781612626864                        Attack on Titan: Volume 13   \n",
       "9780758272799  Antiques Roadkill: A Trash 'n' Treasures Mystery   \n",
       "9781506713816                    The Art of Super Mario Odyssey   \n",
       "9781617734076    Getting Away Is Deadly: An Ellie Avery Mystery   \n",
       "9780007287758         The Painted Man (The Demon Cycle, Book 1)   \n",
       "\n",
       "                       author  rating voters   price currency  \\\n",
       "ISBN                                                            \n",
       "9781612626864  Hajime Isayama     4.6    428   43.28      SAR   \n",
       "9780758272799   Barbara Allan     3.3     23   26.15      SAR   \n",
       "9781506713816        Nintendo     3.9      9  133.85      SAR   \n",
       "9781617734076     Sara Rosett     4.0     10   26.15      SAR   \n",
       "9780007287758  Peter V. Brett     4.5    577   28.54      SAR   \n",
       "\n",
       "                                                     description  \\\n",
       "ISBN                                                               \n",
       "9781612626864  NO SAFE PLACE LEFT At great cost to the Garris...   \n",
       "9780758272799  Determined to make a new start in her quaint h...   \n",
       "9781506713816  Take a globetrotting journey all over the worl...   \n",
       "9781617734076  With swollen feet and swelling belly, pregnant...   \n",
       "9780007287758  The stunning debut fantasy novel from author P...   \n",
       "\n",
       "                                 publisher  page_count  \\\n",
       "ISBN                                                     \n",
       "9781612626864              Kodansha Comics         192   \n",
       "9780758272799  Kensington Publishing Corp.         288   \n",
       "9781506713816            Dark Horse Comics         368   \n",
       "9781617734076  Kensington Publishing Corp.         320   \n",
       "9780007287758             HarperCollins UK         544   \n",
       "\n",
       "                                                         generes language  \\\n",
       "ISBN                                                                        \n",
       "9781612626864                                               none  English   \n",
       "9780758272799  Fiction , Mystery &amp, Detective , Cozy , Gen...  English   \n",
       "9781506713816    Games &amp, Activities , Video &amp, Electronic  English   \n",
       "9781617734076                                               none  English   \n",
       "9780007287758                   Fiction , Fantasy , Dark Fantasy  English   \n",
       "\n",
       "              published_date  \n",
       "ISBN                          \n",
       "9781612626864   Jul 31, 2014  \n",
       "9780758272799    Jul 1, 2007  \n",
       "9781506713816    Nov 5, 2019  \n",
       "9781617734076    Mar 1, 2009  \n",
       "9780007287758    Jan 8, 2009  "
      ],
      "text/html": "<div>\n<style scoped>\n    .dataframe tbody tr th:only-of-type {\n        vertical-align: middle;\n    }\n\n    .dataframe tbody tr th {\n        vertical-align: top;\n    }\n\n    .dataframe thead th {\n        text-align: right;\n    }\n</style>\n<table border=\"1\" class=\"dataframe\">\n  <thead>\n    <tr style=\"text-align: right;\">\n      <th></th>\n      <th>title</th>\n      <th>author</th>\n      <th>rating</th>\n      <th>voters</th>\n      <th>price</th>\n      <th>currency</th>\n      <th>description</th>\n      <th>publisher</th>\n      <th>page_count</th>\n      <th>generes</th>\n      <th>language</th>\n      <th>published_date</th>\n    </tr>\n    <tr>\n      <th>ISBN</th>\n      <th></th>\n      <th></th>\n      <th></th>\n      <th></th>\n      <th></th>\n      <th></th>\n      <th></th>\n      <th></th>\n      <th></th>\n      <th></th>\n      <th></th>\n      <th></th>\n    </tr>\n  </thead>\n  <tbody>\n    <tr>\n      <th>9781612626864</th>\n      <td>Attack on Titan: Volume 13</td>\n      <td>Hajime Isayama</td>\n      <td>4.6</td>\n      <td>428</td>\n      <td>43.28</td>\n      <td>SAR</td>\n      <td>NO SAFE PLACE LEFT At great cost to the Garris...</td>\n      <td>Kodansha Comics</td>\n      <td>192</td>\n      <td>none</td>\n      <td>English</td>\n      <td>Jul 31, 2014</td>\n    </tr>\n    <tr>\n      <th>9780758272799</th>\n      <td>Antiques Roadkill: A Trash 'n' Treasures Mystery</td>\n      <td>Barbara Allan</td>\n      <td>3.3</td>\n      <td>23</td>\n      <td>26.15</td>\n      <td>SAR</td>\n      <td>Determined to make a new start in her quaint h...</td>\n      <td>Kensington Publishing Corp.</td>\n      <td>288</td>\n      <td>Fiction , Mystery &amp;amp, Detective , Cozy , Gen...</td>\n      <td>English</td>\n      <td>Jul 1, 2007</td>\n    </tr>\n    <tr>\n      <th>9781506713816</th>\n      <td>The Art of Super Mario Odyssey</td>\n      <td>Nintendo</td>\n      <td>3.9</td>\n      <td>9</td>\n      <td>133.85</td>\n      <td>SAR</td>\n      <td>Take a globetrotting journey all over the worl...</td>\n      <td>Dark Horse Comics</td>\n      <td>368</td>\n      <td>Games &amp;amp, Activities , Video &amp;amp, Electronic</td>\n      <td>English</td>\n      <td>Nov 5, 2019</td>\n    </tr>\n    <tr>\n      <th>9781617734076</th>\n      <td>Getting Away Is Deadly: An Ellie Avery Mystery</td>\n      <td>Sara Rosett</td>\n      <td>4.0</td>\n      <td>10</td>\n      <td>26.15</td>\n      <td>SAR</td>\n      <td>With swollen feet and swelling belly, pregnant...</td>\n      <td>Kensington Publishing Corp.</td>\n      <td>320</td>\n      <td>none</td>\n      <td>English</td>\n      <td>Mar 1, 2009</td>\n    </tr>\n    <tr>\n      <th>9780007287758</th>\n      <td>The Painted Man (The Demon Cycle, Book 1)</td>\n      <td>Peter V. Brett</td>\n      <td>4.5</td>\n      <td>577</td>\n      <td>28.54</td>\n      <td>SAR</td>\n      <td>The stunning debut fantasy novel from author P...</td>\n      <td>HarperCollins UK</td>\n      <td>544</td>\n      <td>Fiction , Fantasy , Dark Fantasy</td>\n      <td>English</td>\n      <td>Jan 8, 2009</td>\n    </tr>\n  </tbody>\n</table>\n</div>"
     },
     "metadata": {},
     "execution_count": 2
    }
   ],
   "source": [
    "books_df = pd.read_csv(\"google_books.csv\", usecols=[\"title\", \"author\", \"rating\", \"voters\", \"price\", \"currency\", \"description\", \"publisher\", \"page_count\", \"generes\", \"ISBN\", \"language\", \"published_date\"], index_col=\"ISBN\")\n",
    "books_df.head()"
   ]
  },
  {
   "source": [
    "The dataset has only books in the English language, which makes it easy to use NLP techniques in only one language "
   ],
   "cell_type": "markdown",
   "metadata": {}
  },
  {
   "cell_type": "code",
   "execution_count": 3,
   "metadata": {},
   "outputs": [
    {
     "output_type": "stream",
     "name": "stdout",
     "text": [
      "['English']\n"
     ]
    }
   ],
   "source": [
    "print(books_df.language.unique())"
   ]
  },
  {
   "source": [
    "The dataset has only 1299 examples of books. It seems to be a very small amount for a machine learning problem. In the future, we can use a larger dataset for the analysis. Also, we can handle that by using techniques such as K-fold cross validation"
   ],
   "cell_type": "markdown",
   "metadata": {}
  },
  {
   "cell_type": "code",
   "execution_count": 4,
   "metadata": {},
   "outputs": [
    {
     "output_type": "stream",
     "name": "stdout",
     "text": [
      "(1299, 12)\n"
     ]
    }
   ],
   "source": [
    "print(books_df.shape)"
   ]
  },
  {
   "source": [
    "We have 183 different authors, 82 publishers and 242 genres. However, we can see that the gender column can have several values for each book, so the number of different genres must be different from that. We will transform the gender column so that it is a list of them, not just a string"
   ],
   "cell_type": "markdown",
   "metadata": {}
  },
  {
   "cell_type": "code",
   "execution_count": 5,
   "metadata": {},
   "outputs": [
    {
     "output_type": "stream",
     "name": "stdout",
     "text": [
      "Number of authors: 183\nNumber of publishers: 82\nNumber of genres: 242\n"
     ]
    }
   ],
   "source": [
    "print(\"Number of authors: {}\".format(books_df.author.nunique()))\n",
    "print(\"Number of publishers: {}\".format(books_df.publisher.nunique()))\n",
    "print(\"Number of genres: {}\".format(books_df.generes.nunique()))"
   ]
  },
  {
   "source": [
    "We will remove some columns that do not seem to influence the literary genre of a book. This way, we will reduce the memory usage and leave the dataset cleaner for a better modeling"
   ],
   "cell_type": "markdown",
   "metadata": {}
  },
  {
   "cell_type": "code",
   "execution_count": 6,
   "metadata": {},
   "outputs": [
    {
     "output_type": "execute_result",
     "data": {
      "text/plain": [
       "                                                     description  \\\n",
       "ISBN                                                               \n",
       "9781612626864  NO SAFE PLACE LEFT At great cost to the Garris...   \n",
       "9780758272799  Determined to make a new start in her quaint h...   \n",
       "9781506713816  Take a globetrotting journey all over the worl...   \n",
       "9781617734076  With swollen feet and swelling belly, pregnant...   \n",
       "9780007287758  The stunning debut fantasy novel from author P...   \n",
       "9780007369218  HBO’s hit series A GAME OF THRONES is based on...   \n",
       "9781789090154  The novelization of the highly anticipated God...   \n",
       "9781250166609  From #1 New York Times bestselling author Bran...   \n",
       "9780062651242  NATIONAL BESTSELLERDeveloping video games—hero...   \n",
       "9781529018592  A short gift book of festive hospital diaries ...   \n",
       "\n",
       "                                                         generes  \n",
       "ISBN                                                              \n",
       "9781612626864                                               none  \n",
       "9780758272799  Fiction , Mystery &amp, Detective , Cozy , Gen...  \n",
       "9781506713816    Games &amp, Activities , Video &amp, Electronic  \n",
       "9781617734076                                               none  \n",
       "9780007287758                   Fiction , Fantasy , Dark Fantasy  \n",
       "9780007369218                                               none  \n",
       "9781789090154                             Fiction , Media Tie-In  \n",
       "9781250166609                           Fiction , Fantasy , Epic  \n",
       "9780062651242    Games &amp, Activities , Video &amp, Electronic  \n",
       "9781529018592  Biography &amp, Autobiography , Medical (incl....  "
      ],
      "text/html": "<div>\n<style scoped>\n    .dataframe tbody tr th:only-of-type {\n        vertical-align: middle;\n    }\n\n    .dataframe tbody tr th {\n        vertical-align: top;\n    }\n\n    .dataframe thead th {\n        text-align: right;\n    }\n</style>\n<table border=\"1\" class=\"dataframe\">\n  <thead>\n    <tr style=\"text-align: right;\">\n      <th></th>\n      <th>description</th>\n      <th>generes</th>\n    </tr>\n    <tr>\n      <th>ISBN</th>\n      <th></th>\n      <th></th>\n    </tr>\n  </thead>\n  <tbody>\n    <tr>\n      <th>9781612626864</th>\n      <td>NO SAFE PLACE LEFT At great cost to the Garris...</td>\n      <td>none</td>\n    </tr>\n    <tr>\n      <th>9780758272799</th>\n      <td>Determined to make a new start in her quaint h...</td>\n      <td>Fiction , Mystery &amp;amp, Detective , Cozy , Gen...</td>\n    </tr>\n    <tr>\n      <th>9781506713816</th>\n      <td>Take a globetrotting journey all over the worl...</td>\n      <td>Games &amp;amp, Activities , Video &amp;amp, Electronic</td>\n    </tr>\n    <tr>\n      <th>9781617734076</th>\n      <td>With swollen feet and swelling belly, pregnant...</td>\n      <td>none</td>\n    </tr>\n    <tr>\n      <th>9780007287758</th>\n      <td>The stunning debut fantasy novel from author P...</td>\n      <td>Fiction , Fantasy , Dark Fantasy</td>\n    </tr>\n    <tr>\n      <th>9780007369218</th>\n      <td>HBO’s hit series A GAME OF THRONES is based on...</td>\n      <td>none</td>\n    </tr>\n    <tr>\n      <th>9781789090154</th>\n      <td>The novelization of the highly anticipated God...</td>\n      <td>Fiction , Media Tie-In</td>\n    </tr>\n    <tr>\n      <th>9781250166609</th>\n      <td>From #1 New York Times bestselling author Bran...</td>\n      <td>Fiction , Fantasy , Epic</td>\n    </tr>\n    <tr>\n      <th>9780062651242</th>\n      <td>NATIONAL BESTSELLERDeveloping video games—hero...</td>\n      <td>Games &amp;amp, Activities , Video &amp;amp, Electronic</td>\n    </tr>\n    <tr>\n      <th>9781529018592</th>\n      <td>A short gift book of festive hospital diaries ...</td>\n      <td>Biography &amp;amp, Autobiography , Medical (incl....</td>\n    </tr>\n  </tbody>\n</table>\n</div>"
     },
     "metadata": {},
     "execution_count": 6
    }
   ],
   "source": [
    "books_df.drop(columns=[\"rating\", \"voters\", \"price\", \"currency\", \"published_date\", \"language\", \"page_count\", \"title\", \"author\", \"publisher\"], inplace=True)\n",
    "books_df.head(10)"
   ]
  },
  {
   "source": [
    "Some genres are \"none\", that means that the exact genre of that book is not known. In this case, we will remove those lines that have such a value "
   ],
   "cell_type": "markdown",
   "metadata": {}
  },
  {
   "cell_type": "code",
   "execution_count": 7,
   "metadata": {},
   "outputs": [
    {
     "output_type": "stream",
     "name": "stdout",
     "text": [
      "(772, 2)\n"
     ]
    }
   ],
   "source": [
    "books_df[\"generes\"] = books_df[\"generes\"].replace(\"none\", np.nan)\n",
    "books_df[\"generes\"].head()\n",
    "books_df.dropna(subset=[\"generes\"], inplace=True)\n",
    "print(books_df.shape)"
   ]
  },
  {
   "source": [
    "## Text preprocessing"
   ],
   "cell_type": "markdown",
   "metadata": {}
  },
  {
   "source": [
    "In this phase, we will clean the texts, removing symbols, accents, punctuations, etc. Next, we will use some Natural Language Processing techniques to better process the text, such as tokenization, removing stop words and text normalization"
   ],
   "cell_type": "markdown",
   "metadata": {}
  },
  {
   "cell_type": "code",
   "execution_count": 8,
   "metadata": {},
   "outputs": [],
   "source": [
    "books_df[\"generes\"] = books_df[\"generes\"].apply(lambda x: re.sub(r\"&amp\", \"\", str(x).lower()))\n",
    "books_df[\"generes\"] = books_df[\"generes\"].str.split(\" , \")"
   ]
  },
  {
   "cell_type": "code",
   "execution_count": 9,
   "metadata": {},
   "outputs": [
    {
     "output_type": "execute_result",
     "data": {
      "text/plain": [
       "                                                     description  \\\n",
       "ISBN                                                               \n",
       "9780758272799  determined to make a new start in her quaint h...   \n",
       "9781506713816  take a globetrotting journey all over the worl...   \n",
       "9780007287758  the stunning debut fantasy novel from author p...   \n",
       "9781789090154  the novelization of the highly anticipated god...   \n",
       "9781250166609  from  new york times bestselling author brando...   \n",
       "\n",
       "                                                    generes  \n",
       "ISBN                                                         \n",
       "9780758272799  [fiction, mystery, detective, cozy, general]  \n",
       "9781506713816        [games, activities, video, electronic]  \n",
       "9780007287758              [fiction, fantasy, dark fantasy]  \n",
       "9781789090154                       [fiction, media tie-in]  \n",
       "9781250166609                      [fiction, fantasy, epic]  "
      ],
      "text/html": "<div>\n<style scoped>\n    .dataframe tbody tr th:only-of-type {\n        vertical-align: middle;\n    }\n\n    .dataframe tbody tr th {\n        vertical-align: top;\n    }\n\n    .dataframe thead th {\n        text-align: right;\n    }\n</style>\n<table border=\"1\" class=\"dataframe\">\n  <thead>\n    <tr style=\"text-align: right;\">\n      <th></th>\n      <th>description</th>\n      <th>generes</th>\n    </tr>\n    <tr>\n      <th>ISBN</th>\n      <th></th>\n      <th></th>\n    </tr>\n  </thead>\n  <tbody>\n    <tr>\n      <th>9780758272799</th>\n      <td>determined to make a new start in her quaint h...</td>\n      <td>[fiction, mystery, detective, cozy, general]</td>\n    </tr>\n    <tr>\n      <th>9781506713816</th>\n      <td>take a globetrotting journey all over the worl...</td>\n      <td>[games, activities, video, electronic]</td>\n    </tr>\n    <tr>\n      <th>9780007287758</th>\n      <td>the stunning debut fantasy novel from author p...</td>\n      <td>[fiction, fantasy, dark fantasy]</td>\n    </tr>\n    <tr>\n      <th>9781789090154</th>\n      <td>the novelization of the highly anticipated god...</td>\n      <td>[fiction, media tie-in]</td>\n    </tr>\n    <tr>\n      <th>9781250166609</th>\n      <td>from  new york times bestselling author brando...</td>\n      <td>[fiction, fantasy, epic]</td>\n    </tr>\n  </tbody>\n</table>\n</div>"
     },
     "metadata": {},
     "execution_count": 9
    }
   ],
   "source": [
    "books_df[\"description\"] = books_df[\"description\"].apply(lambda x: re.sub(r\"[\\,\\.\\\\\\/\\_\\:\\;\\>\\<\\}\\{\\´\\`\\(\\)\\+\\-\\%\\$\\#\\@\\!\\?\\[\\]]|\\d\", \"\", str(x).lower().strip()))\n",
    "books_df.head()"
   ]
  },
  {
   "cell_type": "code",
   "execution_count": 10,
   "metadata": {},
   "outputs": [],
   "source": [
    "def text_preprocessing(text):\n",
    "    #Tokenization\n",
    "    tokenized = word_tokenize(text)\n",
    "    #Text normalization\n",
    "    #stemming\n",
    "    stemmer = PorterStemmer()\n",
    "    stemmed = [stemmer.stem(token) for token in tokenized]\n",
    "    #lemmatization\n",
    "    lemmatizer = WordNetLemmatizer()\n",
    "    lemmatized = [lemmatizer.lemmatize(token) for token in stemmed]\n",
    "    #Remove stopwords\n",
    "    stop_words = stopwords.words(\"english\")\n",
    "    text_no_stop = [token for token in lemmatized if token not in stop_words]\n",
    "    \n",
    "    processed_text = \" \".join(text_no_stop)\n",
    "\n",
    "    return processed_text"
   ]
  },
  {
   "cell_type": "code",
   "execution_count": 11,
   "metadata": {},
   "outputs": [
    {
     "output_type": "execute_result",
     "data": {
      "text/plain": [
       "ISBN\n",
       "9780758272799    determin make new start quaint hometown bank m...\n",
       "9781506713816    take globetrot journey worldand beyondwith thi...\n",
       "9780007287758    stun debut fantasi novel author peter v brett ...\n",
       "9781789090154    novel highli anticip god war game hi vengeanc ...\n",
       "9781250166609    new york time bestsel author brandon sanderson...\n",
       "Name: description, dtype: object"
      ]
     },
     "metadata": {},
     "execution_count": 11
    }
   ],
   "source": [
    "books_df[\"description\"] = books_df[\"description\"].apply(lambda x: text_preprocessing(x))\n",
    "books_df[\"description\"].head()"
   ]
  },
  {
   "source": [
    "We will create a list containing all the literary genres present in the dataset "
   ],
   "cell_type": "markdown",
   "metadata": {}
  },
  {
   "cell_type": "code",
   "execution_count": 12,
   "metadata": {
    "tags": []
   },
   "outputs": [
    {
     "output_type": "stream",
     "name": "stdout",
     "text": [
      "['fiction', 'mystery', 'detective', 'cozy', 'general', 'games', 'activities', 'video', 'electronic', 'fantasy', 'dark fantasy', 'media tie-in', 'epic', 'biography', 'autobiography', 'medical (incl. patients)', 'dragons', 'mythical creatures', 'comics', 'graphic novels', 'superheroes', 'comics & graphic novels', 'sports', 'military', 'science fiction', 'women', 'juvenile fiction', 'humorous stories', 'classics', 'business', 'economics', 'motivational', 'social science', 'action', 'adventure', 'women sleuths', 'noir', 'leadership', 'literary criticism', 'accounting', 'financial', 'cooking', 'methods', 'baking', 'literary collections', 'letters', 'literary', 'amateur sleuth', 'thrillers', 'suspense', 'industries', 'computers', 'information technology', 'self-help', 'personal growth', 'marketing', 'family', 'relationships', 'private investigators', 'self-esteem', 'crime', 'management', 'corporate finance', 'psychology', 'interpersonal relations', 'personal success', 'hard-boiled', 'communication', 'social skills', 'police procedural', 'contemporary', 'magic', 'personal finance', 'drama', 'shakespeare', 'urban', 'humor', 'recreation', 'soccer', 'supernatural', 'international mystery', 'history', 'modern', '20th century', 'domestic', 'humorous', 'mystery & detective', 'new business enterprises', 'poetry', 'self-management', 'horror', 'lgbt', 'gay', 'emotions', 'reference', 'theory', 'success', 'action & adventure', 'manga', 'organizational behavior', 'conflict resolution', 'mediation', 'philosophy', 'business & economics', 'mentoring & coaching', 'advertising', 'promotion', 'psychological', 'nonfiction', 'e-commerce', 'time management', 'creative ability', 'paranormal', 'fairy tales, folk tales, legends', 'mythology', 'true crime', 'neuropsychology', 'health', 'fitness', 'healthy living', 'movements', 'social psychology', 'space opera', 'historical', 'budgeting', 'entrepreneurship', 'technology', 'engineering', 'management science', 'multilevel', 'business communication', 'electronic commerce', 'training', 'decision-making', 'problem solving', 'system administration', 'storage', 'retrieval', 'literary figures', 'political', 'medical', 'internal medicine', 'stress management', 'young adult fiction', 'gender studies', 'espionage', 'strategy', 'nature', 'environmental conservation', 'protection', 'finance', 'art', 'popular culture', 'body, mind', 'spirit', 'inspiration', 'environmentalists', 'naturalists', 'physiological psychology', 'psychoanalysis', 'political science', 'civics', 'citizenship', 'alien contact', 'traditional', 'collections', 'anthologies', 'workplace culture', 'sales', 'selling', 'information management', 'science', 'public affairs', 'administration', 'holiday', 'sociology', 'public finance', 'skills', 'animals', 'investing', 'entertainment', 'performing arts', 'online trading', 'technological', 'personal memoirs', 'war', 'family life', 'short stories (single author)', 'managerial', 'inspirational', 'cognitive psychology', 'cognition', 'friendship', 'coming of age', 'surveys', 'political ideologies', 'dystopian', 'consumer behavior', 'careers', 'legal', 'essays', 'strategic planning', 'topic', 'celebrity', 'global warming', 'climate change', 'new thought', 'data processing', 'juvenile nonfiction', 'curiosities', 'wonders', 'business mathematics', 'mental health', 'form', 'comic strips', 'cartoons', 'television', 'genres', 'comedy', 'criminology', 'human resources', 'personnel management', 'european', 'none, irish, scottish, welsh', 'rich', 'famous', 'small town', 'rural', 'terrorism', 'investments', 'securities', 'stocks', 'customer relations', 'development', 'business development', 'social activists', 'software development', 'money management', 'alternative history', 'american', 'fairy tales', 'folklore', 'organizational development', 'meetings', 'presentations', 'organized crime', 'feminism', 'feminist theory', 'music', 'styles', 'musicals', 'web', 'social media', 'life stages', 'school age', 'social themes', 'corporate', 'business history', 'desktop applications', 'professional', 'happiness', 'satire', 'video game art', 'theater', 'courses', 'dishes', 'cookies', 'internet marketing', 'health care delivery']\n269\n"
     ]
    }
   ],
   "source": [
    "genres = []\n",
    "\n",
    "for i in range(len(books_df[\"generes\"].values)):\n",
    "    for genre in books_df[\"generes\"].iloc[i]:\n",
    "        if genre not in genres:\n",
    "            genres.append(genre)\n",
    "print(genres)\n",
    "print(len(genres))"
   ]
  },
  {
   "source": [
    "Turn each genre into a column, so our dataset will be in a wide-form. Whenever a sample has that genre in its list of genres, then we put a value of 1 in the column that represents the genre, if it does not have it, we add 0. For example, if a book is only \"adventure\", then its \"adventure\" column will have a value of 1 and the rest of the genre columns will have a value of 0 "
   ],
   "cell_type": "markdown",
   "metadata": {}
  },
  {
   "cell_type": "code",
   "execution_count": 13,
   "metadata": {
    "tags": []
   },
   "outputs": [],
   "source": [
    "for genre in genres:\n",
    "    books_df[genre] = books_df[\"generes\"].apply(lambda x: 1 if genre in x else 0)"
   ]
  },
  {
   "source": [
    "## Modeling and evaluation\n",
    "First, we will separate the data into two sets, a training set, which will serve to train the Machine Learning (ML) algorithm, and a test set to check how well the model does with data not yet seen. Next, we will use a pipeline so that the data can be processed with tf-idf (term frequency-inverse document frequency) and then go through the ML algorithm using the One-vs-Rest technique (OvR), which allows us to do a multilabel classification, that is, of all classes (Multiclass) the result for being more than 1 of them. More info about multilabel classification go [here](https://towardsdatascience.com/multi-label-text-classification-with-scikit-learn-30714b7819c5) and more info about OvR go [here] (https://machinelearningmastery.com/one-vs-rest-and-one-vs-one-for-multi-class-classification/)"
   ],
   "cell_type": "markdown",
   "metadata": {}
  },
  {
   "cell_type": "code",
   "execution_count": 14,
   "metadata": {},
   "outputs": [],
   "source": [
    "train, test = train_test_split(books_df, test_size=0.2, shuffle=True, random_state=42)\n",
    "x_train = train[\"description\"]\n",
    "x_test = test[\"description\"]"
   ]
  },
  {
   "source": [
    "We will use unigrams and bigrams to better analysis"
   ],
   "cell_type": "markdown",
   "metadata": {}
  },
  {
   "cell_type": "code",
   "execution_count": 15,
   "metadata": {},
   "outputs": [],
   "source": [
    "pipe = Pipeline([\n",
    "    (\"vectorizer\", TfidfVectorizer(ngram_range=(1, 2))),\n",
    "    (\"model\", OneVsRestClassifier(MultinomialNB(), n_jobs=-1))\n",
    "])"
   ]
  },
  {
   "cell_type": "code",
   "execution_count": 16,
   "metadata": {
    "tags": []
   },
   "outputs": [
    {
     "output_type": "stream",
     "name": "stdout",
     "text": [
      "Overall accuracies mean: 0.9909581484590478\nThe min accuracy was on genre general with the value 0.8193548387096774\nThe max accuracy was on genre health care delivery with the value 1.0\n"
     ]
    }
   ],
   "source": [
    "accuracies = []\n",
    "\n",
    "for genre in genres:\n",
    "    pipe.fit(x_train, train[genre])\n",
    "    \n",
    "    accuracy = pipe.score(x_test, test[genre])\n",
    "\n",
    "    #If you want to check every accuracy for every single genre, uncomment the two lines bellow\n",
    "    #print(\"Accuracy for genre {genre} is {score} on training set\".format(genre=genre, score=pipe.score(x_train, train[genre])))\n",
    "    #print(\"Accuracy for genre {genre} is {score} on test set\".format(genre=genre, score=accuracy))\n",
    "    \n",
    "    accuracies.append(accuracy)\n",
    "\n",
    "genres_and_accuracies = {k: v for (k, v) in zip(accuracies, genres)}\n",
    "print(\"Overall accuracies mean: {acc_mean}\".format(acc_mean=np.mean(accuracies)))\n",
    "\n",
    "acc_min = np.amin(accuracies)\n",
    "print(\"The min accuracy was on genre {genre} with the value {acc_min}\".format(genre=genres_and_accuracies.get(acc_min), acc_min=acc_min))\n",
    "\n",
    "acc_max = np.amax(accuracies)\n",
    "print(\"The max accuracy was on genre {genre} with the value {acc_max}\".format(genre=genres_and_accuracies.get(acc_max), acc_max=acc_max))"
   ]
  },
  {
   "source": [
    "As the dataset has few values, we can obtain a more real result of accuracy using the K-fold cross validation technique. So, we will divide the dataset into 5 equal parts, where 1 of them will be used as a validation set and the rest will train the model, in the end we will receive each of the measured accuracy and we will take the average of them as a result "
   ],
   "cell_type": "markdown",
   "metadata": {}
  },
  {
   "cell_type": "code",
   "execution_count": 17,
   "metadata": {
    "tags": []
   },
   "outputs": [
    {
     "output_type": "stream",
     "name": "stdout",
     "text": [
      "Overall accuracies mean with cross validation: 0.9911545032494788\nThe min accuracy was on genre general with value 0.7823963133640552 using cross validation\nThe max accuracy was on genre health care delivery with value 0.9987096774193549 using cross validation\n"
     ]
    }
   ],
   "source": [
    "accuracies = []\n",
    "\n",
    "for genre in genres:\n",
    "    accuracy = cross_val_score(pipe, books_df[\"description\"], books_df[genre], cv=5, n_jobs=-1).mean()\n",
    "\n",
    "    #If you want to check every accuracy for every single genre, uncomment the line bellow\n",
    "    #print(\"Accuracy for genre {genre} is {score} using cross validation\".format(genre=genre, score=accuracy))\n",
    "\n",
    "    accuracies.append(accuracy)\n",
    "\n",
    "genres_and_accuracies = {k: v for (k, v) in zip(accuracies, genres)}\n",
    "print(\"Overall accuracies mean with cross validation: {acc_mean}\".format(acc_mean=np.mean(accuracies)))\n",
    "\n",
    "acc_min = np.amin(accuracies)\n",
    "print(\"The min accuracy was on genre {genre} with value {acc_min} using cross validation\".format(genre=genres_and_accuracies.get(acc_min), acc_min=acc_min))\n",
    "\n",
    "acc_max = np.amax(accuracies)\n",
    "print(\"The max accuracy was on genre {genre} with value {acc_max} using cross validation\".format(genre=genres_and_accuracies.get(acc_max), acc_max=acc_max))"
   ]
  },
  {
   "source": [
    "# Results and discussion\n",
    "After pre-processing the description of the books and using Natural Language Processing (NLP) techniques, such as Term frequency-Inverse document frequency (tf-idf), and Machine Learning, we were able to have a final accuracy of 99% in identifying the literary genre of a book through a brief description of it. This system can help authors and publishers to better publish their books, where a book publishing platform can use this algorithm to recommend genre tags at the time of publication, or can be used to categorize already published books that do not have a specified genre.\n",
    "Although the results are very good, we can expand the project using more data from books, in addition to using other Machine Learningal gorithms and doing hyperparametrization to obtain even more accurate results. "
   ],
   "cell_type": "markdown",
   "metadata": {}
  },
  {
   "source": [],
   "cell_type": "markdown",
   "metadata": {}
  }
 ]
}